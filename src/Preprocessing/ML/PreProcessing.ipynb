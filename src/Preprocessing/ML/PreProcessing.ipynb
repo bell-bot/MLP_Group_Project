{
 "cells": [
  {
   "cell_type": "code",
   "execution_count": 2,
   "id": "c03a4c2b",
   "metadata": {},
   "outputs": [],
   "source": [
    "###Audio Classification with Pre Procesisng step by step\n",
    "##Trained with ANN and CNN -> part to change it\n",
    "##Done on UrbanSound8K-> (4seconds each clip)"
   ]
  },
  {
   "cell_type": "code",
   "execution_count": 1,
   "id": "a77492ee",
   "metadata": {},
   "outputs": [
    {
     "name": "stdout",
     "output_type": "stream",
     "text": [
      "Requirement already satisfied: librosa in /home/bella/miniconda3/envs/mlp/lib/python3.9/site-packages (0.9.1)\n",
      "Requirement already satisfied: joblib>=0.14 in /home/bella/miniconda3/envs/mlp/lib/python3.9/site-packages (from librosa) (1.1.0)\n",
      "Requirement already satisfied: decorator>=4.0.10 in /home/bella/.local/lib/python3.9/site-packages (from librosa) (5.1.1)\n",
      "Requirement already satisfied: scikit-learn>=0.19.1 in /home/bella/miniconda3/envs/mlp/lib/python3.9/site-packages (from librosa) (1.0.2)\n",
      "Requirement already satisfied: packaging>=20.0 in /home/bella/.local/lib/python3.9/site-packages (from librosa) (21.3)\n",
      "Requirement already satisfied: soundfile>=0.10.2 in /home/bella/miniconda3/envs/mlp/lib/python3.9/site-packages (from librosa) (0.10.3.post1)\n",
      "Requirement already satisfied: pooch>=1.0 in /home/bella/miniconda3/envs/mlp/lib/python3.9/site-packages (from librosa) (1.6.0)\n",
      "Requirement already satisfied: scipy>=1.2.0 in /home/bella/miniconda3/envs/mlp/lib/python3.9/site-packages (from librosa) (1.8.0)\n",
      "Requirement already satisfied: audioread>=2.1.5 in /home/bella/miniconda3/envs/mlp/lib/python3.9/site-packages (from librosa) (2.1.9)\n",
      "Requirement already satisfied: resampy>=0.2.2 in /home/bella/miniconda3/envs/mlp/lib/python3.9/site-packages (from librosa) (0.2.2)\n",
      "Requirement already satisfied: numba>=0.45.1 in /home/bella/miniconda3/envs/mlp/lib/python3.9/site-packages (from librosa) (0.55.1)\n",
      "Requirement already satisfied: numpy>=1.17.0 in /home/bella/.local/lib/python3.9/site-packages (from librosa) (1.22.3)\n",
      "Requirement already satisfied: llvmlite<0.39,>=0.38.0rc1 in /home/bella/miniconda3/envs/mlp/lib/python3.9/site-packages (from numba>=0.45.1->librosa) (0.38.0)\n",
      "Collecting numpy>=1.17.0\n",
      "  Downloading numpy-1.21.5-cp39-cp39-manylinux_2_12_x86_64.manylinux2010_x86_64.whl (15.7 MB)\n",
      "\u001b[K     |████████████████████████████████| 15.7 MB 7.5 MB/s eta 0:00:01\n",
      "\u001b[?25hRequirement already satisfied: setuptools in /home/bella/miniconda3/envs/mlp/lib/python3.9/site-packages (from numba>=0.45.1->librosa) (58.0.4)\n",
      "Requirement already satisfied: pyparsing!=3.0.5,>=2.0.2 in /home/bella/.local/lib/python3.9/site-packages (from packaging>=20.0->librosa) (3.0.7)\n",
      "Requirement already satisfied: requests>=2.19.0 in /home/bella/miniconda3/envs/mlp/lib/python3.9/site-packages (from pooch>=1.0->librosa) (2.27.1)\n",
      "Requirement already satisfied: appdirs>=1.3.0 in /home/bella/miniconda3/envs/mlp/lib/python3.9/site-packages (from pooch>=1.0->librosa) (1.4.4)\n",
      "Requirement already satisfied: certifi>=2017.4.17 in /home/bella/miniconda3/envs/mlp/lib/python3.9/site-packages (from requests>=2.19.0->pooch>=1.0->librosa) (2021.10.8)\n",
      "Requirement already satisfied: idna<4,>=2.5 in /home/bella/miniconda3/envs/mlp/lib/python3.9/site-packages (from requests>=2.19.0->pooch>=1.0->librosa) (3.3)\n",
      "Requirement already satisfied: urllib3<1.27,>=1.21.1 in /home/bella/miniconda3/envs/mlp/lib/python3.9/site-packages (from requests>=2.19.0->pooch>=1.0->librosa) (1.26.9)\n",
      "Requirement already satisfied: charset-normalizer~=2.0.0 in /home/bella/miniconda3/envs/mlp/lib/python3.9/site-packages (from requests>=2.19.0->pooch>=1.0->librosa) (2.0.12)\n",
      "Requirement already satisfied: six>=1.3 in /home/bella/miniconda3/envs/mlp/lib/python3.9/site-packages (from resampy>=0.2.2->librosa) (1.16.0)\n",
      "Requirement already satisfied: threadpoolctl>=2.0.0 in /home/bella/miniconda3/envs/mlp/lib/python3.9/site-packages (from scikit-learn>=0.19.1->librosa) (3.1.0)\n",
      "Requirement already satisfied: cffi>=1.0 in /home/bella/.local/lib/python3.9/site-packages (from soundfile>=0.10.2->librosa) (1.15.0)\n",
      "Requirement already satisfied: pycparser in /home/bella/.local/lib/python3.9/site-packages (from cffi>=1.0->soundfile>=0.10.2->librosa) (2.21)\n",
      "Installing collected packages: numpy\n",
      "  Attempting uninstall: numpy\n",
      "    Found existing installation: numpy 1.22.3\n",
      "    Uninstalling numpy-1.22.3:\n",
      "      Successfully uninstalled numpy-1.22.3\n",
      "Successfully installed numpy-1.21.5\n",
      "Requirement already satisfied: librosa in /home/bella/miniconda3/envs/mlp/lib/python3.9/site-packages (0.9.1)\n",
      "Requirement already satisfied: audioread>=2.1.5 in /home/bella/miniconda3/envs/mlp/lib/python3.9/site-packages (from librosa) (2.1.9)\n",
      "Requirement already satisfied: resampy>=0.2.2 in /home/bella/miniconda3/envs/mlp/lib/python3.9/site-packages (from librosa) (0.2.2)\n",
      "Requirement already satisfied: soundfile>=0.10.2 in /home/bella/miniconda3/envs/mlp/lib/python3.9/site-packages (from librosa) (0.10.3.post1)\n",
      "Requirement already satisfied: scikit-learn>=0.19.1 in /home/bella/miniconda3/envs/mlp/lib/python3.9/site-packages (from librosa) (1.0.2)\n",
      "Requirement already satisfied: packaging>=20.0 in /home/bella/.local/lib/python3.9/site-packages (from librosa) (21.3)\n",
      "Requirement already satisfied: numpy>=1.17.0 in /home/bella/miniconda3/envs/mlp/lib/python3.9/site-packages (from librosa) (1.21.5)\n",
      "Requirement already satisfied: numba>=0.45.1 in /home/bella/miniconda3/envs/mlp/lib/python3.9/site-packages (from librosa) (0.55.1)\n",
      "Requirement already satisfied: pooch>=1.0 in /home/bella/miniconda3/envs/mlp/lib/python3.9/site-packages (from librosa) (1.6.0)\n",
      "Requirement already satisfied: scipy>=1.2.0 in /home/bella/miniconda3/envs/mlp/lib/python3.9/site-packages (from librosa) (1.8.0)\n",
      "Requirement already satisfied: decorator>=4.0.10 in /home/bella/.local/lib/python3.9/site-packages (from librosa) (5.1.1)\n",
      "Requirement already satisfied: joblib>=0.14 in /home/bella/miniconda3/envs/mlp/lib/python3.9/site-packages (from librosa) (1.1.0)\n",
      "Requirement already satisfied: setuptools in /home/bella/miniconda3/envs/mlp/lib/python3.9/site-packages (from numba>=0.45.1->librosa) (58.0.4)\n",
      "Requirement already satisfied: llvmlite<0.39,>=0.38.0rc1 in /home/bella/miniconda3/envs/mlp/lib/python3.9/site-packages (from numba>=0.45.1->librosa) (0.38.0)\n",
      "Requirement already satisfied: pyparsing!=3.0.5,>=2.0.2 in /home/bella/.local/lib/python3.9/site-packages (from packaging>=20.0->librosa) (3.0.7)\n",
      "Requirement already satisfied: appdirs>=1.3.0 in /home/bella/miniconda3/envs/mlp/lib/python3.9/site-packages (from pooch>=1.0->librosa) (1.4.4)\n",
      "Requirement already satisfied: requests>=2.19.0 in /home/bella/miniconda3/envs/mlp/lib/python3.9/site-packages (from pooch>=1.0->librosa) (2.27.1)\n",
      "Requirement already satisfied: certifi>=2017.4.17 in /home/bella/miniconda3/envs/mlp/lib/python3.9/site-packages (from requests>=2.19.0->pooch>=1.0->librosa) (2021.10.8)\n",
      "Requirement already satisfied: urllib3<1.27,>=1.21.1 in /home/bella/miniconda3/envs/mlp/lib/python3.9/site-packages (from requests>=2.19.0->pooch>=1.0->librosa) (1.26.9)\n",
      "Requirement already satisfied: idna<4,>=2.5 in /home/bella/miniconda3/envs/mlp/lib/python3.9/site-packages (from requests>=2.19.0->pooch>=1.0->librosa) (3.3)\n",
      "Requirement already satisfied: charset-normalizer~=2.0.0 in /home/bella/miniconda3/envs/mlp/lib/python3.9/site-packages (from requests>=2.19.0->pooch>=1.0->librosa) (2.0.12)\n",
      "Requirement already satisfied: six>=1.3 in /home/bella/miniconda3/envs/mlp/lib/python3.9/site-packages (from resampy>=0.2.2->librosa) (1.16.0)\n",
      "Requirement already satisfied: threadpoolctl>=2.0.0 in /home/bella/miniconda3/envs/mlp/lib/python3.9/site-packages (from scikit-learn>=0.19.1->librosa) (3.1.0)\n",
      "Requirement already satisfied: cffi>=1.0 in /home/bella/.local/lib/python3.9/site-packages (from soundfile>=0.10.2->librosa) (1.15.0)\n",
      "Requirement already satisfied: pycparser in /home/bella/.local/lib/python3.9/site-packages (from cffi>=1.0->soundfile>=0.10.2->librosa) (2.21)\n"
     ]
    }
   ],
   "source": [
    "##ADA part -> what does sound look like? Librosa works with the sounds \n",
    "!pip install librosa\n",
    "!pip3 install librosa"
   ]
  },
  {
   "cell_type": "code",
   "execution_count": 2,
   "id": "b4a56653",
   "metadata": {},
   "outputs": [
    {
     "name": "stdout",
     "output_type": "stream",
     "text": [
      "PreProcessing.ipynb  pre_processing_ML.py\r\n"
     ]
    }
   ],
   "source": [
    "!dir"
   ]
  },
  {
   "cell_type": "code",
   "execution_count": 7,
   "id": "52caf213",
   "metadata": {},
   "outputs": [],
   "source": [
    "import matplotlib.pyplot as plt\n",
    "%matplotlib inline"
   ]
  },
  {
   "cell_type": "code",
   "execution_count": 8,
   "id": "ddb0c252",
   "metadata": {},
   "outputs": [],
   "source": [
    "filename = 'UrbanSound8K/acord.wav'"
   ]
  },
  {
   "cell_type": "code",
   "execution_count": 9,
   "id": "7a64bb3c",
   "metadata": {},
   "outputs": [],
   "source": [
    "##Display graph library \n",
    "import librosa \n",
    "import librosa.display\n",
    "import IPython.display as ipd"
   ]
  },
  {
   "cell_type": "code",
   "execution_count": 10,
   "id": "98707dbb",
   "metadata": {},
   "outputs": [
    {
     "name": "stderr",
     "output_type": "stream",
     "text": [
      "/home/bella/miniconda3/envs/mlp/lib/python3.9/site-packages/librosa/util/decorators.py:88: UserWarning: PySoundFile failed. Trying audioread instead.\n",
      "  return f(*args, **kwargs)\n"
     ]
    },
    {
     "ename": "FileNotFoundError",
     "evalue": "[Errno 2] No such file or directory: 'UrbanSound8K/acord.wav'",
     "output_type": "error",
     "traceback": [
      "\u001b[0;31m---------------------------------------------------------------------------\u001b[0m",
      "\u001b[0;31mRuntimeError\u001b[0m                              Traceback (most recent call last)",
      "File \u001b[0;32m~/miniconda3/envs/mlp/lib/python3.9/site-packages/librosa/core/audio.py:155\u001b[0m, in \u001b[0;36mload\u001b[0;34m(path, sr, mono, offset, duration, dtype, res_type)\u001b[0m\n\u001b[1;32m    153\u001b[0m \u001b[38;5;28;01melse\u001b[39;00m:\n\u001b[1;32m    154\u001b[0m     \u001b[38;5;66;03m# Otherwise, create the soundfile object\u001b[39;00m\n\u001b[0;32m--> 155\u001b[0m     context \u001b[38;5;241m=\u001b[39m \u001b[43msf\u001b[49m\u001b[38;5;241;43m.\u001b[39;49m\u001b[43mSoundFile\u001b[49m\u001b[43m(\u001b[49m\u001b[43mpath\u001b[49m\u001b[43m)\u001b[49m\n\u001b[1;32m    157\u001b[0m \u001b[38;5;28;01mwith\u001b[39;00m context \u001b[38;5;28;01mas\u001b[39;00m sf_desc:\n",
      "File \u001b[0;32m~/miniconda3/envs/mlp/lib/python3.9/site-packages/soundfile.py:629\u001b[0m, in \u001b[0;36mSoundFile.__init__\u001b[0;34m(self, file, mode, samplerate, channels, subtype, endian, format, closefd)\u001b[0m\n\u001b[1;32m    627\u001b[0m \u001b[38;5;28mself\u001b[39m\u001b[38;5;241m.\u001b[39m_info \u001b[38;5;241m=\u001b[39m _create_info_struct(file, mode, samplerate, channels,\n\u001b[1;32m    628\u001b[0m                                  \u001b[38;5;28mformat\u001b[39m, subtype, endian)\n\u001b[0;32m--> 629\u001b[0m \u001b[38;5;28mself\u001b[39m\u001b[38;5;241m.\u001b[39m_file \u001b[38;5;241m=\u001b[39m \u001b[38;5;28;43mself\u001b[39;49m\u001b[38;5;241;43m.\u001b[39;49m\u001b[43m_open\u001b[49m\u001b[43m(\u001b[49m\u001b[43mfile\u001b[49m\u001b[43m,\u001b[49m\u001b[43m \u001b[49m\u001b[43mmode_int\u001b[49m\u001b[43m,\u001b[49m\u001b[43m \u001b[49m\u001b[43mclosefd\u001b[49m\u001b[43m)\u001b[49m\n\u001b[1;32m    630\u001b[0m \u001b[38;5;28;01mif\u001b[39;00m \u001b[38;5;28mset\u001b[39m(mode)\u001b[38;5;241m.\u001b[39missuperset(\u001b[38;5;124m'\u001b[39m\u001b[38;5;124mr+\u001b[39m\u001b[38;5;124m'\u001b[39m) \u001b[38;5;129;01mand\u001b[39;00m \u001b[38;5;28mself\u001b[39m\u001b[38;5;241m.\u001b[39mseekable():\n\u001b[1;32m    631\u001b[0m     \u001b[38;5;66;03m# Move write position to 0 (like in Python file objects)\u001b[39;00m\n",
      "File \u001b[0;32m~/miniconda3/envs/mlp/lib/python3.9/site-packages/soundfile.py:1183\u001b[0m, in \u001b[0;36mSoundFile._open\u001b[0;34m(self, file, mode_int, closefd)\u001b[0m\n\u001b[1;32m   1182\u001b[0m     \u001b[38;5;28;01mraise\u001b[39;00m \u001b[38;5;167;01mTypeError\u001b[39;00m(\u001b[38;5;124m\"\u001b[39m\u001b[38;5;124mInvalid file: \u001b[39m\u001b[38;5;132;01m{0!r}\u001b[39;00m\u001b[38;5;124m\"\u001b[39m\u001b[38;5;241m.\u001b[39mformat(\u001b[38;5;28mself\u001b[39m\u001b[38;5;241m.\u001b[39mname))\n\u001b[0;32m-> 1183\u001b[0m \u001b[43m_error_check\u001b[49m\u001b[43m(\u001b[49m\u001b[43m_snd\u001b[49m\u001b[38;5;241;43m.\u001b[39;49m\u001b[43msf_error\u001b[49m\u001b[43m(\u001b[49m\u001b[43mfile_ptr\u001b[49m\u001b[43m)\u001b[49m\u001b[43m,\u001b[49m\n\u001b[1;32m   1184\u001b[0m \u001b[43m             \u001b[49m\u001b[38;5;124;43m\"\u001b[39;49m\u001b[38;5;124;43mError opening \u001b[39;49m\u001b[38;5;132;43;01m{0!r}\u001b[39;49;00m\u001b[38;5;124;43m: \u001b[39;49m\u001b[38;5;124;43m\"\u001b[39;49m\u001b[38;5;241;43m.\u001b[39;49m\u001b[43mformat\u001b[49m\u001b[43m(\u001b[49m\u001b[38;5;28;43mself\u001b[39;49m\u001b[38;5;241;43m.\u001b[39;49m\u001b[43mname\u001b[49m\u001b[43m)\u001b[49m\u001b[43m)\u001b[49m\n\u001b[1;32m   1185\u001b[0m \u001b[38;5;28;01mif\u001b[39;00m mode_int \u001b[38;5;241m==\u001b[39m _snd\u001b[38;5;241m.\u001b[39mSFM_WRITE:\n\u001b[1;32m   1186\u001b[0m     \u001b[38;5;66;03m# Due to a bug in libsndfile version <= 1.0.25, frames != 0\u001b[39;00m\n\u001b[1;32m   1187\u001b[0m     \u001b[38;5;66;03m# when opening a named pipe in SFM_WRITE mode.\u001b[39;00m\n\u001b[1;32m   1188\u001b[0m     \u001b[38;5;66;03m# See http://github.com/erikd/libsndfile/issues/77.\u001b[39;00m\n",
      "File \u001b[0;32m~/miniconda3/envs/mlp/lib/python3.9/site-packages/soundfile.py:1357\u001b[0m, in \u001b[0;36m_error_check\u001b[0;34m(err, prefix)\u001b[0m\n\u001b[1;32m   1356\u001b[0m err_str \u001b[38;5;241m=\u001b[39m _snd\u001b[38;5;241m.\u001b[39msf_error_number(err)\n\u001b[0;32m-> 1357\u001b[0m \u001b[38;5;28;01mraise\u001b[39;00m \u001b[38;5;167;01mRuntimeError\u001b[39;00m(prefix \u001b[38;5;241m+\u001b[39m _ffi\u001b[38;5;241m.\u001b[39mstring(err_str)\u001b[38;5;241m.\u001b[39mdecode(\u001b[38;5;124m'\u001b[39m\u001b[38;5;124mutf-8\u001b[39m\u001b[38;5;124m'\u001b[39m, \u001b[38;5;124m'\u001b[39m\u001b[38;5;124mreplace\u001b[39m\u001b[38;5;124m'\u001b[39m))\n",
      "\u001b[0;31mRuntimeError\u001b[0m: Error opening 'UrbanSound8K/acord.wav': System error.",
      "\nDuring handling of the above exception, another exception occurred:\n",
      "\u001b[0;31mFileNotFoundError\u001b[0m                         Traceback (most recent call last)",
      "Input \u001b[0;32mIn [10]\u001b[0m, in \u001b[0;36m<cell line: 3>\u001b[0;34m()\u001b[0m\n\u001b[1;32m      1\u001b[0m \u001b[38;5;66;03m##Plot and play\u001b[39;00m\n\u001b[1;32m      2\u001b[0m plt\u001b[38;5;241m.\u001b[39mfigure(figsize \u001b[38;5;241m=\u001b[39m(\u001b[38;5;241m14\u001b[39m,\u001b[38;5;241m5\u001b[39m))\n\u001b[0;32m----> 3\u001b[0m data, sample_rate \u001b[38;5;241m=\u001b[39m \u001b[43mlibrosa\u001b[49m\u001b[38;5;241;43m.\u001b[39;49m\u001b[43mload\u001b[49m\u001b[43m(\u001b[49m\u001b[43mfilename\u001b[49m\u001b[43m)\u001b[49m\n\u001b[1;32m      4\u001b[0m librosa\u001b[38;5;241m.\u001b[39mdisplay\u001b[38;5;241m.\u001b[39mwaveshow(data,sr\u001b[38;5;241m=\u001b[39msample_rate)\n\u001b[1;32m      5\u001b[0m ipd\u001b[38;5;241m.\u001b[39mAudio(filename)\n",
      "File \u001b[0;32m~/miniconda3/envs/mlp/lib/python3.9/site-packages/librosa/util/decorators.py:88\u001b[0m, in \u001b[0;36mdeprecate_positional_args.<locals>._inner_deprecate_positional_args.<locals>.inner_f\u001b[0;34m(*args, **kwargs)\u001b[0m\n\u001b[1;32m     86\u001b[0m extra_args \u001b[38;5;241m=\u001b[39m \u001b[38;5;28mlen\u001b[39m(args) \u001b[38;5;241m-\u001b[39m \u001b[38;5;28mlen\u001b[39m(all_args)\n\u001b[1;32m     87\u001b[0m \u001b[38;5;28;01mif\u001b[39;00m extra_args \u001b[38;5;241m<\u001b[39m\u001b[38;5;241m=\u001b[39m \u001b[38;5;241m0\u001b[39m:\n\u001b[0;32m---> 88\u001b[0m     \u001b[38;5;28;01mreturn\u001b[39;00m \u001b[43mf\u001b[49m\u001b[43m(\u001b[49m\u001b[38;5;241;43m*\u001b[39;49m\u001b[43margs\u001b[49m\u001b[43m,\u001b[49m\u001b[43m \u001b[49m\u001b[38;5;241;43m*\u001b[39;49m\u001b[38;5;241;43m*\u001b[39;49m\u001b[43mkwargs\u001b[49m\u001b[43m)\u001b[49m\n\u001b[1;32m     90\u001b[0m \u001b[38;5;66;03m# extra_args > 0\u001b[39;00m\n\u001b[1;32m     91\u001b[0m args_msg \u001b[38;5;241m=\u001b[39m [\n\u001b[1;32m     92\u001b[0m     \u001b[38;5;124m\"\u001b[39m\u001b[38;5;132;01m{}\u001b[39;00m\u001b[38;5;124m=\u001b[39m\u001b[38;5;132;01m{}\u001b[39;00m\u001b[38;5;124m\"\u001b[39m\u001b[38;5;241m.\u001b[39mformat(name, arg)\n\u001b[1;32m     93\u001b[0m     \u001b[38;5;28;01mfor\u001b[39;00m name, arg \u001b[38;5;129;01min\u001b[39;00m \u001b[38;5;28mzip\u001b[39m(kwonly_args[:extra_args], args[\u001b[38;5;241m-\u001b[39mextra_args:])\n\u001b[1;32m     94\u001b[0m ]\n",
      "File \u001b[0;32m~/miniconda3/envs/mlp/lib/python3.9/site-packages/librosa/core/audio.py:174\u001b[0m, in \u001b[0;36mload\u001b[0;34m(path, sr, mono, offset, duration, dtype, res_type)\u001b[0m\n\u001b[1;32m    172\u001b[0m \u001b[38;5;28;01mif\u001b[39;00m \u001b[38;5;28misinstance\u001b[39m(path, (\u001b[38;5;28mstr\u001b[39m, pathlib\u001b[38;5;241m.\u001b[39mPurePath)):\n\u001b[1;32m    173\u001b[0m     warnings\u001b[38;5;241m.\u001b[39mwarn(\u001b[38;5;124m\"\u001b[39m\u001b[38;5;124mPySoundFile failed. Trying audioread instead.\u001b[39m\u001b[38;5;124m\"\u001b[39m, stacklevel\u001b[38;5;241m=\u001b[39m\u001b[38;5;241m2\u001b[39m)\n\u001b[0;32m--> 174\u001b[0m     y, sr_native \u001b[38;5;241m=\u001b[39m \u001b[43m__audioread_load\u001b[49m\u001b[43m(\u001b[49m\u001b[43mpath\u001b[49m\u001b[43m,\u001b[49m\u001b[43m \u001b[49m\u001b[43moffset\u001b[49m\u001b[43m,\u001b[49m\u001b[43m \u001b[49m\u001b[43mduration\u001b[49m\u001b[43m,\u001b[49m\u001b[43m \u001b[49m\u001b[43mdtype\u001b[49m\u001b[43m)\u001b[49m\n\u001b[1;32m    175\u001b[0m \u001b[38;5;28;01melse\u001b[39;00m:\n\u001b[1;32m    176\u001b[0m     \u001b[38;5;28;01mraise\u001b[39;00m (exc)\n",
      "File \u001b[0;32m~/miniconda3/envs/mlp/lib/python3.9/site-packages/librosa/core/audio.py:198\u001b[0m, in \u001b[0;36m__audioread_load\u001b[0;34m(path, offset, duration, dtype)\u001b[0m\n\u001b[1;32m    192\u001b[0m \u001b[38;5;124;03m\"\"\"Load an audio buffer using audioread.\u001b[39;00m\n\u001b[1;32m    193\u001b[0m \n\u001b[1;32m    194\u001b[0m \u001b[38;5;124;03mThis loads one block at a time, and then concatenates the results.\u001b[39;00m\n\u001b[1;32m    195\u001b[0m \u001b[38;5;124;03m\"\"\"\u001b[39;00m\n\u001b[1;32m    197\u001b[0m y \u001b[38;5;241m=\u001b[39m []\n\u001b[0;32m--> 198\u001b[0m \u001b[38;5;28;01mwith\u001b[39;00m \u001b[43maudioread\u001b[49m\u001b[38;5;241;43m.\u001b[39;49m\u001b[43maudio_open\u001b[49m\u001b[43m(\u001b[49m\u001b[43mpath\u001b[49m\u001b[43m)\u001b[49m \u001b[38;5;28;01mas\u001b[39;00m input_file:\n\u001b[1;32m    199\u001b[0m     sr_native \u001b[38;5;241m=\u001b[39m input_file\u001b[38;5;241m.\u001b[39msamplerate\n\u001b[1;32m    200\u001b[0m     n_channels \u001b[38;5;241m=\u001b[39m input_file\u001b[38;5;241m.\u001b[39mchannels\n",
      "File \u001b[0;32m~/miniconda3/envs/mlp/lib/python3.9/site-packages/audioread/__init__.py:111\u001b[0m, in \u001b[0;36maudio_open\u001b[0;34m(path, backends)\u001b[0m\n\u001b[1;32m    109\u001b[0m \u001b[38;5;28;01mfor\u001b[39;00m BackendClass \u001b[38;5;129;01min\u001b[39;00m backends:\n\u001b[1;32m    110\u001b[0m     \u001b[38;5;28;01mtry\u001b[39;00m:\n\u001b[0;32m--> 111\u001b[0m         \u001b[38;5;28;01mreturn\u001b[39;00m \u001b[43mBackendClass\u001b[49m\u001b[43m(\u001b[49m\u001b[43mpath\u001b[49m\u001b[43m)\u001b[49m\n\u001b[1;32m    112\u001b[0m     \u001b[38;5;28;01mexcept\u001b[39;00m DecodeError:\n\u001b[1;32m    113\u001b[0m         \u001b[38;5;28;01mpass\u001b[39;00m\n",
      "File \u001b[0;32m~/miniconda3/envs/mlp/lib/python3.9/site-packages/audioread/rawread.py:62\u001b[0m, in \u001b[0;36mRawAudioFile.__init__\u001b[0;34m(self, filename)\u001b[0m\n\u001b[1;32m     61\u001b[0m \u001b[38;5;28;01mdef\u001b[39;00m \u001b[38;5;21m__init__\u001b[39m(\u001b[38;5;28mself\u001b[39m, filename):\n\u001b[0;32m---> 62\u001b[0m     \u001b[38;5;28mself\u001b[39m\u001b[38;5;241m.\u001b[39m_fh \u001b[38;5;241m=\u001b[39m \u001b[38;5;28;43mopen\u001b[39;49m\u001b[43m(\u001b[49m\u001b[43mfilename\u001b[49m\u001b[43m,\u001b[49m\u001b[43m \u001b[49m\u001b[38;5;124;43m'\u001b[39;49m\u001b[38;5;124;43mrb\u001b[39;49m\u001b[38;5;124;43m'\u001b[39;49m\u001b[43m)\u001b[49m\n\u001b[1;32m     64\u001b[0m     \u001b[38;5;28;01mtry\u001b[39;00m:\n\u001b[1;32m     65\u001b[0m         \u001b[38;5;28mself\u001b[39m\u001b[38;5;241m.\u001b[39m_file \u001b[38;5;241m=\u001b[39m aifc\u001b[38;5;241m.\u001b[39mopen(\u001b[38;5;28mself\u001b[39m\u001b[38;5;241m.\u001b[39m_fh)\n",
      "\u001b[0;31mFileNotFoundError\u001b[0m: [Errno 2] No such file or directory: 'UrbanSound8K/acord.wav'"
     ]
    },
    {
     "data": {
      "text/plain": [
       "<Figure size 1008x360 with 0 Axes>"
      ]
     },
     "metadata": {},
     "output_type": "display_data"
    }
   ],
   "source": [
    "##Plot and play\n",
    "plt.figure(figsize =(14,5))\n",
    "data, sample_rate = librosa.load(filename)\n",
    "librosa.display.waveshow(data,sr=sample_rate)\n",
    "ipd.Audio(filename)"
   ]
  },
  {
   "cell_type": "code",
   "execution_count": 6,
   "id": "c1848d57",
   "metadata": {},
   "outputs": [
    {
     "data": {
      "text/plain": [
       "22050"
      ]
     },
     "execution_count": 6,
     "metadata": {},
     "output_type": "execute_result"
    }
   ],
   "source": [
    "sample_rate ## How many times per second it has been sampled -- 44.1 Khz is standard \n",
    "##There may be different samples rates in a single dataset --> mono equal LHS and RHS-> \n",
    "##Sterio is different in LHS and RHS\n",
    "##Librosa normalizes this for a single sample rate 22.05Khz"
   ]
  },
  {
   "cell_type": "code",
   "execution_count": 7,
   "id": "9eb68c94",
   "metadata": {},
   "outputs": [],
   "source": [
    "from scipy.io import wavfile as wav\n",
    "wave_sample_rate, wave_audio = wav.read(filename)"
   ]
  },
  {
   "cell_type": "code",
   "execution_count": 8,
   "id": "0ca99c1b",
   "metadata": {},
   "outputs": [
    {
     "data": {
      "text/plain": [
       "44100"
      ]
     },
     "execution_count": 8,
     "metadata": {},
     "output_type": "execute_result"
    }
   ],
   "source": [
    "wave_sample_rate ## THIS IS THE ACTUAL ONE BUT LIBROSA NORMALIZES"
   ]
  },
  {
   "cell_type": "code",
   "execution_count": 9,
   "id": "c464bc40",
   "metadata": {},
   "outputs": [
    {
     "data": {
      "text/plain": [
       "array([[ 1898,  -842],\n",
       "       [ 1862,  -884],\n",
       "       [ 1870,  -780],\n",
       "       ...,\n",
       "       [-3234, -3785],\n",
       "       [-3314, -3983],\n",
       "       [-3376, -4283]], dtype=int16)"
      ]
     },
     "execution_count": 9,
     "metadata": {},
     "output_type": "execute_result"
    }
   ],
   "source": [
    "wave_audio"
   ]
  },
  {
   "cell_type": "code",
   "execution_count": 10,
   "id": "f2422b19",
   "metadata": {},
   "outputs": [
    {
     "name": "stdout",
     "output_type": "stream",
     "text": [
      "Defaulting to user installation because normal site-packages is not writeable\n",
      "Requirement already satisfied: pandas in /home/szy/.local/lib/python3.6/site-packages (1.1.5)\n",
      "Requirement already satisfied: pytz>=2017.2 in /usr/lib/python3/dist-packages (from pandas) (2018.3)\n",
      "Requirement already satisfied: numpy>=1.15.4 in /home/szy/.local/lib/python3.6/site-packages (from pandas) (1.19.5)\n",
      "Requirement already satisfied: python-dateutil>=2.7.3 in /home/szy/.local/lib/python3.6/site-packages (from pandas) (2.8.2)\n",
      "Requirement already satisfied: six>=1.5 in /home/szy/.local/lib/python3.6/site-packages (from python-dateutil>=2.7.3->pandas) (1.15.0)\n",
      "Defaulting to user installation because normal site-packages is not writeable\n",
      "Requirement already satisfied: pandas in /home/szy/.local/lib/python3.6/site-packages (1.1.5)\n",
      "Requirement already satisfied: numpy>=1.15.4 in /home/szy/.local/lib/python3.6/site-packages (from pandas) (1.19.5)\n",
      "Requirement already satisfied: pytz>=2017.2 in /usr/lib/python3/dist-packages (from pandas) (2018.3)\n",
      "Requirement already satisfied: python-dateutil>=2.7.3 in /home/szy/.local/lib/python3.6/site-packages (from pandas) (2.8.2)\n",
      "Requirement already satisfied: six>=1.5 in /home/szy/.local/lib/python3.6/site-packages (from python-dateutil>=2.7.3->pandas) (1.15.0)\n"
     ]
    }
   ],
   "source": [
    "!pip install pandas\n",
    "!pip3 install pandas\n",
    "import pandas as pd"
   ]
  },
  {
   "cell_type": "code",
   "execution_count": 11,
   "id": "c834d7c0",
   "metadata": {},
   "outputs": [
    {
     "data": {
      "text/html": [
       "<div>\n",
       "<style scoped>\n",
       "    .dataframe tbody tr th:only-of-type {\n",
       "        vertical-align: middle;\n",
       "    }\n",
       "\n",
       "    .dataframe tbody tr th {\n",
       "        vertical-align: top;\n",
       "    }\n",
       "\n",
       "    .dataframe thead th {\n",
       "        text-align: right;\n",
       "    }\n",
       "</style>\n",
       "<table border=\"1\" class=\"dataframe\">\n",
       "  <thead>\n",
       "    <tr style=\"text-align: right;\">\n",
       "      <th></th>\n",
       "      <th>slice_file_name</th>\n",
       "      <th>fsID</th>\n",
       "      <th>start</th>\n",
       "      <th>end</th>\n",
       "      <th>salience</th>\n",
       "      <th>fold</th>\n",
       "      <th>classID</th>\n",
       "      <th>class</th>\n",
       "    </tr>\n",
       "  </thead>\n",
       "  <tbody>\n",
       "    <tr>\n",
       "      <th>0</th>\n",
       "      <td>100032-3-0-0.wav</td>\n",
       "      <td>100032</td>\n",
       "      <td>0.000000</td>\n",
       "      <td>0.317551</td>\n",
       "      <td>1</td>\n",
       "      <td>5</td>\n",
       "      <td>3</td>\n",
       "      <td>dog_bark</td>\n",
       "    </tr>\n",
       "    <tr>\n",
       "      <th>1</th>\n",
       "      <td>100263-2-0-117.wav</td>\n",
       "      <td>100263</td>\n",
       "      <td>58.500000</td>\n",
       "      <td>62.500000</td>\n",
       "      <td>1</td>\n",
       "      <td>5</td>\n",
       "      <td>2</td>\n",
       "      <td>children_playing</td>\n",
       "    </tr>\n",
       "    <tr>\n",
       "      <th>2</th>\n",
       "      <td>100263-2-0-121.wav</td>\n",
       "      <td>100263</td>\n",
       "      <td>60.500000</td>\n",
       "      <td>64.500000</td>\n",
       "      <td>1</td>\n",
       "      <td>5</td>\n",
       "      <td>2</td>\n",
       "      <td>children_playing</td>\n",
       "    </tr>\n",
       "    <tr>\n",
       "      <th>3</th>\n",
       "      <td>100263-2-0-126.wav</td>\n",
       "      <td>100263</td>\n",
       "      <td>63.000000</td>\n",
       "      <td>67.000000</td>\n",
       "      <td>1</td>\n",
       "      <td>5</td>\n",
       "      <td>2</td>\n",
       "      <td>children_playing</td>\n",
       "    </tr>\n",
       "    <tr>\n",
       "      <th>4</th>\n",
       "      <td>100263-2-0-137.wav</td>\n",
       "      <td>100263</td>\n",
       "      <td>68.500000</td>\n",
       "      <td>72.500000</td>\n",
       "      <td>1</td>\n",
       "      <td>5</td>\n",
       "      <td>2</td>\n",
       "      <td>children_playing</td>\n",
       "    </tr>\n",
       "    <tr>\n",
       "      <th>5</th>\n",
       "      <td>100263-2-0-143.wav</td>\n",
       "      <td>100263</td>\n",
       "      <td>71.500000</td>\n",
       "      <td>75.500000</td>\n",
       "      <td>1</td>\n",
       "      <td>5</td>\n",
       "      <td>2</td>\n",
       "      <td>children_playing</td>\n",
       "    </tr>\n",
       "    <tr>\n",
       "      <th>6</th>\n",
       "      <td>100263-2-0-161.wav</td>\n",
       "      <td>100263</td>\n",
       "      <td>80.500000</td>\n",
       "      <td>84.500000</td>\n",
       "      <td>1</td>\n",
       "      <td>5</td>\n",
       "      <td>2</td>\n",
       "      <td>children_playing</td>\n",
       "    </tr>\n",
       "    <tr>\n",
       "      <th>7</th>\n",
       "      <td>100263-2-0-3.wav</td>\n",
       "      <td>100263</td>\n",
       "      <td>1.500000</td>\n",
       "      <td>5.500000</td>\n",
       "      <td>1</td>\n",
       "      <td>5</td>\n",
       "      <td>2</td>\n",
       "      <td>children_playing</td>\n",
       "    </tr>\n",
       "    <tr>\n",
       "      <th>8</th>\n",
       "      <td>100263-2-0-36.wav</td>\n",
       "      <td>100263</td>\n",
       "      <td>18.000000</td>\n",
       "      <td>22.000000</td>\n",
       "      <td>1</td>\n",
       "      <td>5</td>\n",
       "      <td>2</td>\n",
       "      <td>children_playing</td>\n",
       "    </tr>\n",
       "    <tr>\n",
       "      <th>9</th>\n",
       "      <td>100648-1-0-0.wav</td>\n",
       "      <td>100648</td>\n",
       "      <td>4.823402</td>\n",
       "      <td>5.471927</td>\n",
       "      <td>2</td>\n",
       "      <td>10</td>\n",
       "      <td>1</td>\n",
       "      <td>car_horn</td>\n",
       "    </tr>\n",
       "  </tbody>\n",
       "</table>\n",
       "</div>"
      ],
      "text/plain": [
       "      slice_file_name    fsID      start        end  salience  fold  classID  \\\n",
       "0    100032-3-0-0.wav  100032   0.000000   0.317551         1     5        3   \n",
       "1  100263-2-0-117.wav  100263  58.500000  62.500000         1     5        2   \n",
       "2  100263-2-0-121.wav  100263  60.500000  64.500000         1     5        2   \n",
       "3  100263-2-0-126.wav  100263  63.000000  67.000000         1     5        2   \n",
       "4  100263-2-0-137.wav  100263  68.500000  72.500000         1     5        2   \n",
       "5  100263-2-0-143.wav  100263  71.500000  75.500000         1     5        2   \n",
       "6  100263-2-0-161.wav  100263  80.500000  84.500000         1     5        2   \n",
       "7    100263-2-0-3.wav  100263   1.500000   5.500000         1     5        2   \n",
       "8   100263-2-0-36.wav  100263  18.000000  22.000000         1     5        2   \n",
       "9    100648-1-0-0.wav  100648   4.823402   5.471927         2    10        1   \n",
       "\n",
       "              class  \n",
       "0          dog_bark  \n",
       "1  children_playing  \n",
       "2  children_playing  \n",
       "3  children_playing  \n",
       "4  children_playing  \n",
       "5  children_playing  \n",
       "6  children_playing  \n",
       "7  children_playing  \n",
       "8  children_playing  \n",
       "9          car_horn  "
      ]
     },
     "execution_count": 11,
     "metadata": {},
     "output_type": "execute_result"
    }
   ],
   "source": [
    "metadata = pd.read_csv('UrbanSound8K/metadata/UrbanSound8K.csv')\n",
    "metadata.head(10)"
   ]
  },
  {
   "cell_type": "code",
   "execution_count": 74,
   "id": "b936baad",
   "metadata": {},
   "outputs": [],
   "source": [
    "##fold == which folder \n",
    "##classid 3 == dogbark"
   ]
  },
  {
   "cell_type": "code",
   "execution_count": 12,
   "id": "f183e802",
   "metadata": {},
   "outputs": [
    {
     "data": {
      "text/plain": [
       "engine_idling       1000\n",
       "jackhammer          1000\n",
       "street_music        1000\n",
       "children_playing    1000\n",
       "drilling            1000\n",
       "dog_bark            1000\n",
       "air_conditioner     1000\n",
       "siren                929\n",
       "car_horn             429\n",
       "gun_shot             374\n",
       "Name: class, dtype: int64"
      ]
     },
     "execution_count": 12,
     "metadata": {},
     "output_type": "execute_result"
    }
   ],
   "source": [
    "##Want to find out if it is a balanced dataset or not\n",
    "metadata['class'].value_counts()\n",
    "##Most are but some are less"
   ]
  },
  {
   "cell_type": "code",
   "execution_count": 78,
   "id": "5825b7ce",
   "metadata": {},
   "outputs": [],
   "source": [
    "##ADA DONE##############\n",
    "##NOW WE MOVE ONTO THE PRE PROCESSING#######################"
   ]
  },
  {
   "cell_type": "code",
   "execution_count": 81,
   "id": "c6c01cc8",
   "metadata": {},
   "outputs": [
    {
     "name": "stdout",
     "output_type": "stream",
     "text": [
      "[ 0.01117232  0.01807125  0.01534632 ... -0.08723455 -0.10228398\n",
      " -0.11784094]\n",
      "[[ 1898  -842]\n",
      " [ 1862  -884]\n",
      " [ 1870  -780]\n",
      " ...\n",
      " [-3234 -3785]\n",
      " [-3314 -3983]\n",
      " [-3376 -4283]]\n"
     ]
    }
   ],
   "source": [
    "print(data) ## THIS IS MONO\n",
    "print(wave_audio)##THIS IS STERIO"
   ]
  },
  {
   "cell_type": "code",
   "execution_count": 13,
   "id": "300f2f9a",
   "metadata": {},
   "outputs": [
    {
     "data": {
      "text/plain": [
       "[<matplotlib.lines.Line2D at 0x7f82e7f6dcf8>,\n",
       " <matplotlib.lines.Line2D at 0x7f82e7f816a0>]"
      ]
     },
     "execution_count": 13,
     "metadata": {},
     "output_type": "execute_result"
    },
    {
     "data": {
      "image/png": "[encoded data removed]",
      "text/plain": [
       "<Figure size 1008x360 with 1 Axes>"
      ]
     },
     "metadata": {
      "needs_background": "light"
     },
     "output_type": "display_data"
    }
   ],
   "source": [
    "plt.figure(figsize =(14,5))\n",
    "plt.plot(wave_audio)"
   ]
  },
  {
   "cell_type": "code",
   "execution_count": null,
   "id": "84534d3a",
   "metadata": {},
   "outputs": [],
   "source": [
    "##CREATE INDEPENDENT FEATURES"
   ]
  },
  {
   "cell_type": "code",
   "execution_count": 14,
   "id": "ed112dd0",
   "metadata": {},
   "outputs": [
    {
     "name": "stdout",
     "output_type": "stream",
     "text": [
      "(40, 173)\n"
     ]
    }
   ],
   "source": [
    "mfccs = librosa.feature.mfcc(y = data, sr=sample_rate,  n_mfcc=40)\n",
    "print(mfccs.shape)"
   ]
  },
  {
   "cell_type": "code",
   "execution_count": 15,
   "id": "e83d6cf2",
   "metadata": {},
   "outputs": [
    {
     "data": {
      "text/html": [
       "<div>\n",
       "<style scoped>\n",
       "    .dataframe tbody tr th:only-of-type {\n",
       "        vertical-align: middle;\n",
       "    }\n",
       "\n",
       "    .dataframe tbody tr th {\n",
       "        vertical-align: top;\n",
       "    }\n",
       "\n",
       "    .dataframe thead th {\n",
       "        text-align: right;\n",
       "    }\n",
       "</style>\n",
       "<table border=\"1\" class=\"dataframe\">\n",
       "  <thead>\n",
       "    <tr style=\"text-align: right;\">\n",
       "      <th></th>\n",
       "      <th>slice_file_name</th>\n",
       "      <th>fsID</th>\n",
       "      <th>start</th>\n",
       "      <th>end</th>\n",
       "      <th>salience</th>\n",
       "      <th>fold</th>\n",
       "      <th>classID</th>\n",
       "      <th>class</th>\n",
       "    </tr>\n",
       "  </thead>\n",
       "  <tbody>\n",
       "    <tr>\n",
       "      <th>0</th>\n",
       "      <td>100032-3-0-0.wav</td>\n",
       "      <td>100032</td>\n",
       "      <td>0.0</td>\n",
       "      <td>0.317551</td>\n",
       "      <td>1</td>\n",
       "      <td>5</td>\n",
       "      <td>3</td>\n",
       "      <td>dog_bark</td>\n",
       "    </tr>\n",
       "    <tr>\n",
       "      <th>1</th>\n",
       "      <td>100263-2-0-117.wav</td>\n",
       "      <td>100263</td>\n",
       "      <td>58.5</td>\n",
       "      <td>62.500000</td>\n",
       "      <td>1</td>\n",
       "      <td>5</td>\n",
       "      <td>2</td>\n",
       "      <td>children_playing</td>\n",
       "    </tr>\n",
       "    <tr>\n",
       "      <th>2</th>\n",
       "      <td>100263-2-0-121.wav</td>\n",
       "      <td>100263</td>\n",
       "      <td>60.5</td>\n",
       "      <td>64.500000</td>\n",
       "      <td>1</td>\n",
       "      <td>5</td>\n",
       "      <td>2</td>\n",
       "      <td>children_playing</td>\n",
       "    </tr>\n",
       "    <tr>\n",
       "      <th>3</th>\n",
       "      <td>100263-2-0-126.wav</td>\n",
       "      <td>100263</td>\n",
       "      <td>63.0</td>\n",
       "      <td>67.000000</td>\n",
       "      <td>1</td>\n",
       "      <td>5</td>\n",
       "      <td>2</td>\n",
       "      <td>children_playing</td>\n",
       "    </tr>\n",
       "    <tr>\n",
       "      <th>4</th>\n",
       "      <td>100263-2-0-137.wav</td>\n",
       "      <td>100263</td>\n",
       "      <td>68.5</td>\n",
       "      <td>72.500000</td>\n",
       "      <td>1</td>\n",
       "      <td>5</td>\n",
       "      <td>2</td>\n",
       "      <td>children_playing</td>\n",
       "    </tr>\n",
       "  </tbody>\n",
       "</table>\n",
       "</div>"
      ],
      "text/plain": [
       "      slice_file_name    fsID  start        end  salience  fold  classID  \\\n",
       "0    100032-3-0-0.wav  100032    0.0   0.317551         1     5        3   \n",
       "1  100263-2-0-117.wav  100263   58.5  62.500000         1     5        2   \n",
       "2  100263-2-0-121.wav  100263   60.5  64.500000         1     5        2   \n",
       "3  100263-2-0-126.wav  100263   63.0  67.000000         1     5        2   \n",
       "4  100263-2-0-137.wav  100263   68.5  72.500000         1     5        2   \n",
       "\n",
       "              class  \n",
       "0          dog_bark  \n",
       "1  children_playing  \n",
       "2  children_playing  \n",
       "3  children_playing  \n",
       "4  children_playing  "
      ]
     },
     "execution_count": 15,
     "metadata": {},
     "output_type": "execute_result"
    }
   ],
   "source": [
    "import os\n",
    "\n",
    "audio_dataset_path='UrbanSound8K/audio/'\n",
    "metadata=pd.read_csv('UrbanSound8K/metadata/UrbanSound8K.csv')\n",
    "metadata.head()"
   ]
  },
  {
   "cell_type": "code",
   "execution_count": 17,
   "id": "dca5495e",
   "metadata": {},
   "outputs": [],
   "source": [
    "def features_extractor(file):\n",
    "    audio, sample_rate = librosa.load(file_name, res_type='kaiser_fast') \n",
    "    mfccs_features = librosa.feature.mfcc(y=audio, sr=sample_rate, n_mfcc=40)\n",
    "    mfccs_scaled_features = np.mean(mfccs_features.T,axis=0)\n",
    "    \n",
    "    return mfccs_scaled_features"
   ]
  },
  {
   "cell_type": "code",
   "execution_count": 18,
   "id": "8eb00674",
   "metadata": {},
   "outputs": [
    {
     "name": "stderr",
     "output_type": "stream",
     "text": [
      "3555it [03:43, 17.87it/s]/home/szy/.local/lib/python3.6/site-packages/librosa/util/decorators.py:88: UserWarning: n_fft=2048 is too small for input signal of length=1323\n",
      "  return f(*args, **kwargs)\n",
      "8325it [08:28, 21.08it/s]/home/szy/.local/lib/python3.6/site-packages/librosa/util/decorators.py:88: UserWarning: n_fft=2048 is too small for input signal of length=1103\n",
      "  return f(*args, **kwargs)\n",
      "/home/szy/.local/lib/python3.6/site-packages/librosa/util/decorators.py:88: UserWarning: n_fft=2048 is too small for input signal of length=1523\n",
      "  return f(*args, **kwargs)\n",
      "8732it [08:51, 16.42it/s]\n"
     ]
    }
   ],
   "source": [
    "import numpy as np\n",
    "from tqdm import tqdm\n",
    "### Now we iterate through every audio file and extract features \n",
    "### using Mel-Frequency Cepstral Coefficients\n",
    "extracted_features=[]\n",
    "for index_num,row in tqdm(metadata.iterrows()):\n",
    "    file_name = os.path.join(os.path.abspath(audio_dataset_path),'fold'+str(row[\"fold\"])+'/',str(row[\"slice_file_name\"]))\n",
    "    final_class_labels=row[\"class\"] ## Get the label with mfcc\n",
    "    data=features_extractor(file_name) ## get mfcc\n",
    "    extracted_features.append([data,final_class_labels]) ##Store in a long list"
   ]
  },
  {
   "cell_type": "code",
   "execution_count": 21,
   "id": "0fb6ffcf",
   "metadata": {},
   "outputs": [
    {
     "data": {
      "text/html": [
       "<div>\n",
       "<style scoped>\n",
       "    .dataframe tbody tr th:only-of-type {\n",
       "        vertical-align: middle;\n",
       "    }\n",
       "\n",
       "    .dataframe tbody tr th {\n",
       "        vertical-align: top;\n",
       "    }\n",
       "\n",
       "    .dataframe thead th {\n",
       "        text-align: right;\n",
       "    }\n",
       "</style>\n",
       "<table border=\"1\" class=\"dataframe\">\n",
       "  <thead>\n",
       "    <tr style=\"text-align: right;\">\n",
       "      <th></th>\n",
       "      <th>feature</th>\n",
       "      <th>class</th>\n",
       "    </tr>\n",
       "  </thead>\n",
       "  <tbody>\n",
       "    <tr>\n",
       "      <th>0</th>\n",
       "      <td>[-218.18938, 71.38549, -131.49442, -52.25892, ...</td>\n",
       "      <td>dog_bark</td>\n",
       "    </tr>\n",
       "    <tr>\n",
       "      <th>1</th>\n",
       "      <td>[-425.05234, 110.67095, -54.192833, 62.045414,...</td>\n",
       "      <td>children_playing</td>\n",
       "    </tr>\n",
       "    <tr>\n",
       "      <th>2</th>\n",
       "      <td>[-459.82623, 122.82864, -47.908062, 53.302677,...</td>\n",
       "      <td>children_playing</td>\n",
       "    </tr>\n",
       "    <tr>\n",
       "      <th>3</th>\n",
       "      <td>[-414.82184, 102.94826, -36.65685, 54.170742, ...</td>\n",
       "      <td>children_playing</td>\n",
       "    </tr>\n",
       "    <tr>\n",
       "      <th>4</th>\n",
       "      <td>[-447.60776, 115.08627, -53.74607, 61.55309, 1...</td>\n",
       "      <td>children_playing</td>\n",
       "    </tr>\n",
       "  </tbody>\n",
       "</table>\n",
       "</div>"
      ],
      "text/plain": [
       "                                             feature             class\n",
       "0  [-218.18938, 71.38549, -131.49442, -52.25892, ...          dog_bark\n",
       "1  [-425.05234, 110.67095, -54.192833, 62.045414,...  children_playing\n",
       "2  [-459.82623, 122.82864, -47.908062, 53.302677,...  children_playing\n",
       "3  [-414.82184, 102.94826, -36.65685, 54.170742, ...  children_playing\n",
       "4  [-447.60776, 115.08627, -53.74607, 61.55309, 1...  children_playing"
      ]
     },
     "execution_count": 21,
     "metadata": {},
     "output_type": "execute_result"
    }
   ],
   "source": [
    "### converting extracted_features to Pandas dataframe\n",
    "extracted_features_df=pd.DataFrame(extracted_features,columns=['feature','class'])\n",
    "extracted_features_df.head()"
   ]
  },
  {
   "cell_type": "code",
   "execution_count": 20,
   "id": "63a85da3",
   "metadata": {},
   "outputs": [],
   "source": [
    "### Split the dataset into independent and dependent dataset\n",
    "X=np.array(extracted_features_df['feature'].tolist()) ##MFCC features\n",
    "y=np.array(extracted_features_df['class'].tolist()) ##classes"
   ]
  },
  {
   "cell_type": "code",
   "execution_count": 219,
   "id": "8be58372",
   "metadata": {},
   "outputs": [
    {
     "data": {
      "text/plain": [
       "(8732, 40)"
      ]
     },
     "execution_count": 219,
     "metadata": {},
     "output_type": "execute_result"
    }
   ],
   "source": [
    "X.shape"
   ]
  },
  {
   "cell_type": "code",
   "execution_count": 220,
   "id": "0ed5b3f0",
   "metadata": {},
   "outputs": [
    {
     "data": {
      "text/plain": [
       "(8732,)"
      ]
     },
     "execution_count": 220,
     "metadata": {},
     "output_type": "execute_result"
    }
   ],
   "source": [
    "y.shape"
   ]
  },
  {
   "cell_type": "code",
   "execution_count": 221,
   "id": "f1347608",
   "metadata": {},
   "outputs": [],
   "source": [
    "#!pip install tensorflow \n",
    "#!pip3 install tensorflow\n",
    "### Label Encoding\n",
    "###y=np.array(pd.get_dummies(y))\n",
    "### Label Encoder\n",
    "from tensorflow.keras.utils import to_categorical\n",
    "from sklearn.preprocessing import LabelEncoder\n",
    "labelencoder=LabelEncoder()\n",
    "y=to_categorical(labelencoder.fit_transform(y))"
   ]
  },
  {
   "cell_type": "code",
   "execution_count": 222,
   "id": "389c4803",
   "metadata": {},
   "outputs": [
    {
     "data": {
      "text/plain": [
       "(8732, 10)"
      ]
     },
     "execution_count": 222,
     "metadata": {},
     "output_type": "execute_result"
    }
   ],
   "source": [
    "y\n",
    "y.shape"
   ]
  },
  {
   "cell_type": "code",
   "execution_count": 223,
   "id": "22fffcf2",
   "metadata": {},
   "outputs": [],
   "source": [
    "### Train Test Split\n",
    "from sklearn.model_selection import train_test_split0\n",
    "X_train,X_test,y_train,y_test=train_test_split(X,y,test_size=0.2,random_state=0)"
   ]
  },
  {
   "cell_type": "code",
   "execution_count": 224,
   "id": "7529af11",
   "metadata": {},
   "outputs": [
    {
     "data": {
      "text/plain": [
       "array([[-1.3211458e+02,  1.1391494e+02, -2.3927406e+01, ...,\n",
       "         3.3260243e+00, -1.4790288e+00,  2.8912868e+00],\n",
       "       [-1.4296139e+01,  9.1951004e+01, -8.6025953e+00, ...,\n",
       "        -3.3708370e+00, -5.2008624e+00, -1.5975088e+00],\n",
       "       [-4.9827816e+01,  1.8449348e-01, -2.0364500e+01, ...,\n",
       "         2.0259936e+00, -8.3159244e-01,  2.7930872e+00],\n",
       "       ...,\n",
       "       [-4.2723691e+02,  9.2938087e+01,  2.8287873e+00, ...,\n",
       "         8.1411374e-01,  6.6066742e-01,  7.8365982e-01],\n",
       "       [-1.4640692e+02,  1.3716916e+02, -3.4362492e+01, ...,\n",
       "         1.3839476e+00, -1.9667517e+00, -8.8792092e-01],\n",
       "       [-4.2171307e+02,  2.1160454e+02,  2.5852380e+00, ...,\n",
       "        -5.1338639e+00, -3.6135261e+00, -1.3413876e+00]], dtype=float32)"
      ]
     },
     "execution_count": 224,
     "metadata": {},
     "output_type": "execute_result"
    }
   ],
   "source": [
    "X_train"
   ]
  },
  {
   "cell_type": "code",
   "execution_count": 225,
   "id": "01748ce4",
   "metadata": {},
   "outputs": [
    {
     "data": {
      "text/plain": [
       "array([[0., 0., 0., ..., 0., 0., 0.],\n",
       "       [0., 0., 1., ..., 0., 0., 0.],\n",
       "       [0., 0., 1., ..., 0., 0., 0.],\n",
       "       ...,\n",
       "       [0., 1., 0., ..., 0., 0., 0.],\n",
       "       [0., 1., 0., ..., 0., 0., 0.],\n",
       "       [0., 1., 0., ..., 0., 0., 0.]], dtype=float32)"
      ]
     },
     "execution_count": 225,
     "metadata": {},
     "output_type": "execute_result"
    }
   ],
   "source": [
    "y"
   ]
  },
  {
   "cell_type": "code",
   "execution_count": 227,
   "id": "732aca90",
   "metadata": {},
   "outputs": [
    {
     "data": {
      "text/plain": [
       "(6985, 40)"
      ]
     },
     "execution_count": 227,
     "metadata": {},
     "output_type": "execute_result"
    }
   ],
   "source": [
    "X_train.shape"
   ]
  },
  {
   "cell_type": "code",
   "execution_count": 119,
   "id": "303380ac",
   "metadata": {},
   "outputs": [
    {
     "data": {
      "text/plain": [
       "(1747, 40)"
      ]
     },
     "execution_count": 119,
     "metadata": {},
     "output_type": "execute_result"
    }
   ],
   "source": [
    "X_test.shape"
   ]
  },
  {
   "cell_type": "code",
   "execution_count": 120,
   "id": "bffff35d",
   "metadata": {},
   "outputs": [
    {
     "data": {
      "text/plain": [
       "(6985, 10)"
      ]
     },
     "execution_count": 120,
     "metadata": {},
     "output_type": "execute_result"
    }
   ],
   "source": [
    "y_train.shape"
   ]
  },
  {
   "cell_type": "code",
   "execution_count": 122,
   "id": "b64b9223",
   "metadata": {},
   "outputs": [
    {
     "data": {
      "text/plain": [
       "(1747, 10)"
      ]
     },
     "execution_count": 122,
     "metadata": {},
     "output_type": "execute_result"
    }
   ],
   "source": [
    "y_test.shape"
   ]
  },
  {
   "cell_type": "code",
   "execution_count": null,
   "id": "d93061af",
   "metadata": {},
   "outputs": [],
   "source": [
    "##PREPROCESSING DONE### NOW WE WANT TO MAKE THE MODEL"
   ]
  },
  {
   "cell_type": "code",
   "execution_count": 124,
   "id": "169b888d",
   "metadata": {},
   "outputs": [
    {
     "name": "stdout",
     "output_type": "stream",
     "text": [
      "2.6.2\n"
     ]
    }
   ],
   "source": [
    "import tensorflow as tf\n",
    "print(tf.__version__)"
   ]
  },
  {
   "cell_type": "code",
   "execution_count": 125,
   "id": "e1f276ce",
   "metadata": {},
   "outputs": [],
   "source": [
    "from tensorflow.keras.models import Sequential\n",
    "from tensorflow.keras.layers import Dense,Dropout,Activation,Flatten\n",
    "from tensorflow.keras.optimizers import Adam\n",
    "from sklearn import metrics"
   ]
  },
  {
   "cell_type": "code",
   "execution_count": 137,
   "id": "7c5cb5b3",
   "metadata": {},
   "outputs": [],
   "source": [
    "### No of classes\n",
    "num_labels=y.shape[1]"
   ]
  },
  {
   "cell_type": "code",
   "execution_count": 127,
   "id": "7ef7b10b",
   "metadata": {},
   "outputs": [],
   "source": [
    "##MODEL##\n",
    "model=Sequential()\n",
    "###first layer\n",
    "model.add(Dense(100,input_shape=(40,))) ## (n_mfcc,)\n",
    "model.add(Activation('relu'))\n",
    "model.add(Dropout(0.5))\n",
    "###second layer\n",
    "model.add(Dense(200))\n",
    "model.add(Activation('relu'))\n",
    "model.add(Dropout(0.5))\n",
    "###third layer\n",
    "model.add(Dense(100))\n",
    "model.add(Activation('relu'))\n",
    "model.add(Dropout(0.5))\n",
    "\n",
    "###final layer\n",
    "model.add(Dense(num_labels))\n",
    "model.add(Activation('softmax'))"
   ]
  },
  {
   "cell_type": "code",
   "execution_count": 136,
   "id": "aaa042c7",
   "metadata": {},
   "outputs": [
    {
     "name": "stdout",
     "output_type": "stream",
     "text": [
      "Model: \"sequential\"\n",
      "_________________________________________________________________\n",
      "Layer (type)                 Output Shape              Param #   \n",
      "=================================================================\n",
      "dense (Dense)                (None, 100)               4100      \n",
      "_________________________________________________________________\n",
      "activation (Activation)      (None, 100)               0         \n",
      "_________________________________________________________________\n",
      "dropout (Dropout)            (None, 100)               0         \n",
      "_________________________________________________________________\n",
      "dense_1 (Dense)              (None, 200)               20200     \n",
      "_________________________________________________________________\n",
      "activation_1 (Activation)    (None, 200)               0         \n",
      "_________________________________________________________________\n",
      "dropout_1 (Dropout)          (None, 200)               0         \n",
      "_________________________________________________________________\n",
      "dense_2 (Dense)              (None, 100)               20100     \n",
      "_________________________________________________________________\n",
      "activation_2 (Activation)    (None, 100)               0         \n",
      "_________________________________________________________________\n",
      "dropout_2 (Dropout)          (None, 100)               0         \n",
      "_________________________________________________________________\n",
      "dense_3 (Dense)              (None, 10)                1010      \n",
      "_________________________________________________________________\n",
      "activation_3 (Activation)    (None, 10)                0         \n",
      "=================================================================\n",
      "Total params: 45,410\n",
      "Trainable params: 45,410\n",
      "Non-trainable params: 0\n",
      "_________________________________________________________________\n"
     ]
    }
   ],
   "source": [
    "model.summary()"
   ]
  },
  {
   "cell_type": "code",
   "execution_count": 23,
   "id": "d3984f18",
   "metadata": {},
   "outputs": [
    {
     "name": "stdout",
     "output_type": "stream",
     "text": [
      "Defaulting to user installation because normal site-packages is not writeable\n",
      "Requirement already satisfied: espnet in /home/szy/.local/lib/python3.6/site-packages (0.10.1)\n",
      "Requirement already satisfied: nltk>=3.4.5 in /home/szy/.local/lib/python3.6/site-packages (from espnet) (3.6.7)\n",
      "Requirement already satisfied: nara-wpe>=0.0.5 in /home/szy/.local/lib/python3.6/site-packages (from espnet) (0.0.7)\n",
      "Requirement already satisfied: librosa>=0.8.0 in /home/szy/.local/lib/python3.6/site-packages (from espnet) (0.9.1)\n",
      "Requirement already satisfied: espnet-tts-frontend in /home/szy/.local/lib/python3.6/site-packages (from espnet) (0.0.3)\n",
      "Requirement already satisfied: dataclasses in /usr/local/lib/python3.6/dist-packages (from espnet) (0.8)\n",
      "Requirement already satisfied: configargparse>=1.2.1 in /home/szy/.local/lib/python3.6/site-packages (from espnet) (1.5.3)\n",
      "Requirement already satisfied: pytorch-wpe in /home/szy/.local/lib/python3.6/site-packages (from espnet) (0.0.1)\n",
      "Requirement already satisfied: soundfile>=0.10.2 in /home/szy/.local/lib/python3.6/site-packages (from espnet) (0.10.3.post1)\n",
      "Requirement already satisfied: matplotlib==3.1.0 in /home/szy/.local/lib/python3.6/site-packages (from espnet) (3.1.0)\n",
      "Requirement already satisfied: wandb in /home/szy/.local/lib/python3.6/site-packages (from espnet) (0.12.10)\n",
      "Requirement already satisfied: pillow>=6.1.0 in /home/szy/.local/lib/python3.6/site-packages (from espnet) (8.4.0)\n",
      "Requirement already satisfied: tensorboard>=1.14 in /home/szy/.local/lib/python3.6/site-packages (from espnet) (2.6.0)\n",
      "Requirement already satisfied: PyYAML>=5.1.2 in /home/szy/.local/lib/python3.6/site-packages (from espnet) (6.0)\n",
      "Requirement already satisfied: ci-sdr in /home/szy/.local/lib/python3.6/site-packages (from espnet) (0.0.0)\n",
      "Requirement already satisfied: kaldiio>=2.17.0 in /home/szy/.local/lib/python3.6/site-packages (from espnet) (2.17.2)\n",
      "Requirement already satisfied: setuptools>=38.5.1 in /home/szy/.local/lib/python3.6/site-packages (from espnet) (59.6.0)\n",
      "Requirement already satisfied: scipy>=1.4.1 in /usr/local/lib/python3.6/dist-packages (from espnet) (1.5.4)\n",
      "Requirement already satisfied: sentencepiece<0.1.90,>=0.1.82 in /home/szy/.local/lib/python3.6/site-packages (from espnet) (0.1.86)\n",
      "Requirement already satisfied: tensorboardX>=1.8 in /home/szy/.local/lib/python3.6/site-packages (from espnet) (2.5)\n",
      "Requirement already satisfied: torch-complex in /home/szy/.local/lib/python3.6/site-packages (from espnet) (0.4.0)\n",
      "Requirement already satisfied: h5py>=2.10.0 in /home/szy/.local/lib/python3.6/site-packages (from espnet) (3.1.0)\n",
      "Requirement already satisfied: filelock in /home/szy/.local/lib/python3.6/site-packages (from espnet) (3.4.1)\n",
      "Requirement already satisfied: ctc-segmentation<1.8,>=1.6.6 in /home/szy/.local/lib/python3.6/site-packages (from espnet) (1.7.1)\n",
      "Requirement already satisfied: typeguard>=2.7.0 in /home/szy/.local/lib/python3.6/site-packages (from espnet) (2.13.3)\n",
      "Requirement already satisfied: humanfriendly in /home/szy/.local/lib/python3.6/site-packages (from espnet) (10.0)\n",
      "Requirement already satisfied: pyworld>=0.2.10 in /home/szy/.local/lib/python3.6/site-packages (from espnet) (0.3.0)\n",
      "Requirement already satisfied: editdistance==0.5.2 in /home/szy/.local/lib/python3.6/site-packages (from espnet) (0.5.2)\n",
      "Requirement already satisfied: pyparsing!=2.0.4,!=2.1.2,!=2.1.6,>=2.0.1 in /home/szy/.local/lib/python3.6/site-packages (from matplotlib==3.1.0->espnet) (3.0.7)\n",
      "Requirement already satisfied: numpy>=1.11 in /home/szy/.local/lib/python3.6/site-packages (from matplotlib==3.1.0->espnet) (1.19.5)\n",
      "Requirement already satisfied: python-dateutil>=2.1 in /home/szy/.local/lib/python3.6/site-packages (from matplotlib==3.1.0->espnet) (2.8.2)\n",
      "Requirement already satisfied: cycler>=0.10 in /home/szy/.local/lib/python3.6/site-packages (from matplotlib==3.1.0->espnet) (0.11.0)\n",
      "Requirement already satisfied: kiwisolver>=1.0.1 in /usr/local/lib/python3.6/dist-packages (from matplotlib==3.1.0->espnet) (1.3.1)\n",
      "Requirement already satisfied: Cython in /home/szy/.local/lib/python3.6/site-packages (from ctc-segmentation<1.8,>=1.6.6->espnet) (0.29.28)\n",
      "Requirement already satisfied: cached-property in /home/szy/.local/lib/python3.6/site-packages (from h5py>=2.10.0->espnet) (1.5.2)\n",
      "Requirement already satisfied: numba>=0.45.1 in /home/szy/.local/lib/python3.6/site-packages (from librosa>=0.8.0->espnet) (0.53.1)\n",
      "Requirement already satisfied: packaging>=20.0 in /usr/local/lib/python3.6/dist-packages (from librosa>=0.8.0->espnet) (21.3)\n",
      "Requirement already satisfied: joblib>=0.14 in /home/szy/.local/lib/python3.6/site-packages (from librosa>=0.8.0->espnet) (1.1.0)\n",
      "Requirement already satisfied: pooch>=1.0 in /home/szy/.local/lib/python3.6/site-packages (from librosa>=0.8.0->espnet) (1.6.0)\n",
      "Requirement already satisfied: decorator>=4.0.10 in /usr/local/lib/python3.6/dist-packages (from librosa>=0.8.0->espnet) (4.4.2)\n",
      "Requirement already satisfied: audioread>=2.1.5 in /home/szy/.local/lib/python3.6/site-packages (from librosa>=0.8.0->espnet) (2.1.9)\n",
      "Requirement already satisfied: resampy>=0.2.2 in /home/szy/.local/lib/python3.6/site-packages (from librosa>=0.8.0->espnet) (0.2.2)\n",
      "Requirement already satisfied: scikit-learn>=0.19.1 in /home/szy/.local/lib/python3.6/site-packages (from librosa>=0.8.0->espnet) (0.24.2)\n",
      "Requirement already satisfied: bottleneck in /home/szy/.local/lib/python3.6/site-packages (from nara-wpe>=0.0.5->espnet) (1.3.4)\n",
      "Requirement already satisfied: tqdm in /usr/local/lib/python3.6/dist-packages (from nara-wpe>=0.0.5->espnet) (4.62.3)\n",
      "Requirement already satisfied: click in /home/szy/.local/lib/python3.6/site-packages (from nara-wpe>=0.0.5->espnet) (8.0.4)\n",
      "Requirement already satisfied: regex>=2021.8.3 in /home/szy/.local/lib/python3.6/site-packages (from nltk>=3.4.5->espnet) (2022.1.18)\n",
      "Requirement already satisfied: cffi>=1.0 in /usr/local/lib/python3.6/dist-packages (from soundfile>=0.10.2->espnet) (1.15.0)\n",
      "Requirement already satisfied: google-auth-oauthlib<0.5,>=0.4.1 in /home/szy/.local/lib/python3.6/site-packages (from tensorboard>=1.14->espnet) (0.4.6)\n",
      "Requirement already satisfied: google-auth<2,>=1.6.3 in /home/szy/.local/lib/python3.6/site-packages (from tensorboard>=1.14->espnet) (1.35.0)\n",
      "Requirement already satisfied: requests<3,>=2.21.0 in /home/szy/.local/lib/python3.6/site-packages (from tensorboard>=1.14->espnet) (2.27.1)\n",
      "Requirement already satisfied: grpcio>=1.24.3 in /home/szy/.local/lib/python3.6/site-packages (from tensorboard>=1.14->espnet) (1.43.0)\n",
      "Requirement already satisfied: absl-py>=0.4 in /home/szy/.local/lib/python3.6/site-packages (from tensorboard>=1.14->espnet) (0.15.0)\n",
      "Requirement already satisfied: tensorboard-data-server<0.7.0,>=0.6.0 in /home/szy/.local/lib/python3.6/site-packages (from tensorboard>=1.14->espnet) (0.6.1)\n",
      "Requirement already satisfied: protobuf>=3.6.0 in /home/szy/.local/lib/python3.6/site-packages (from tensorboard>=1.14->espnet) (3.19.4)\n",
      "Requirement already satisfied: markdown>=2.6.8 in /home/szy/.local/lib/python3.6/site-packages (from tensorboard>=1.14->espnet) (3.3.6)\n",
      "Requirement already satisfied: tensorboard-plugin-wit>=1.6.0 in /home/szy/.local/lib/python3.6/site-packages (from tensorboard>=1.14->espnet) (1.8.1)\n",
      "Requirement already satisfied: wheel>=0.26 in /home/szy/.local/lib/python3.6/site-packages (from tensorboard>=1.14->espnet) (0.37.1)\n",
      "Requirement already satisfied: werkzeug>=0.11.15 in /home/szy/.local/lib/python3.6/site-packages (from tensorboard>=1.14->espnet) (2.0.3)\n",
      "Requirement already satisfied: six in /home/szy/.local/lib/python3.6/site-packages (from tensorboardX>=1.8->espnet) (1.15.0)\n",
      "Requirement already satisfied: torch in /home/szy/.local/lib/python3.6/site-packages (from ci-sdr->espnet) (1.10.2)\n",
      "Requirement already satisfied: einops in /home/szy/.local/lib/python3.6/site-packages (from ci-sdr->espnet) (0.4.0)\n",
      "Requirement already satisfied: jaconv in /home/szy/.local/lib/python3.6/site-packages (from espnet-tts-frontend->espnet) (0.3)\n",
      "Requirement already satisfied: inflect>=1.0.0 in /home/szy/.local/lib/python3.6/site-packages (from espnet-tts-frontend->espnet) (5.3.0)\n",
      "Requirement already satisfied: unidecode>=1.0.22 in /home/szy/.local/lib/python3.6/site-packages (from espnet-tts-frontend->espnet) (1.3.3)\n",
      "Requirement already satisfied: g2p-en in /home/szy/.local/lib/python3.6/site-packages (from espnet-tts-frontend->espnet) (2.1.0)\n",
      "Requirement already satisfied: pypinyin in /home/szy/.local/lib/python3.6/site-packages (from espnet-tts-frontend->espnet) (0.46.0)\n"
     ]
    },
    {
     "name": "stdout",
     "output_type": "stream",
     "text": [
      "Requirement already satisfied: shortuuid>=0.5.0 in /home/szy/.local/lib/python3.6/site-packages (from wandb->espnet) (1.0.8)\n",
      "Requirement already satisfied: docker-pycreds>=0.4.0 in /home/szy/.local/lib/python3.6/site-packages (from wandb->espnet) (0.4.0)\n",
      "Requirement already satisfied: psutil>=5.0.0 in /home/szy/.local/lib/python3.6/site-packages (from wandb->espnet) (5.9.0)\n",
      "Requirement already satisfied: GitPython>=1.0.0 in /home/szy/.local/lib/python3.6/site-packages (from wandb->espnet) (3.1.18)\n",
      "Requirement already satisfied: pathtools in /home/szy/.local/lib/python3.6/site-packages (from wandb->espnet) (0.1.2)\n",
      "Requirement already satisfied: yaspin>=1.0.0 in /home/szy/.local/lib/python3.6/site-packages (from wandb->espnet) (2.1.0)\n",
      "Requirement already satisfied: promise<3,>=2.0 in /home/szy/.local/lib/python3.6/site-packages (from wandb->espnet) (2.3)\n",
      "Requirement already satisfied: sentry-sdk>=1.0.0 in /home/szy/.local/lib/python3.6/site-packages (from wandb->espnet) (1.5.6)\n",
      "Requirement already satisfied: pycparser in /usr/local/lib/python3.6/dist-packages (from cffi>=1.0->soundfile>=0.10.2->espnet) (2.21)\n",
      "Requirement already satisfied: importlib-metadata in /usr/local/lib/python3.6/dist-packages (from click->nara-wpe>=0.0.5->espnet) (4.8.3)\n",
      "Requirement already satisfied: gitdb<5,>=4.0.1 in /home/szy/.local/lib/python3.6/site-packages (from GitPython>=1.0.0->wandb->espnet) (4.0.9)\n",
      "Requirement already satisfied: typing-extensions>=3.7.4.0 in /home/szy/.local/lib/python3.6/site-packages (from GitPython>=1.0.0->wandb->espnet) (3.7.4.3)\n",
      "Requirement already satisfied: cachetools<5.0,>=2.0.0 in /home/szy/.local/lib/python3.6/site-packages (from google-auth<2,>=1.6.3->tensorboard>=1.14->espnet) (4.2.4)\n",
      "Requirement already satisfied: pyasn1-modules>=0.2.1 in /home/szy/.local/lib/python3.6/site-packages (from google-auth<2,>=1.6.3->tensorboard>=1.14->espnet) (0.2.8)\n",
      "Requirement already satisfied: rsa<5,>=3.1.4 in /home/szy/.local/lib/python3.6/site-packages (from google-auth<2,>=1.6.3->tensorboard>=1.14->espnet) (4.8)\n",
      "Requirement already satisfied: requests-oauthlib>=0.7.0 in /home/szy/.local/lib/python3.6/site-packages (from google-auth-oauthlib<0.5,>=0.4.1->tensorboard>=1.14->espnet) (1.3.1)\n",
      "Requirement already satisfied: llvmlite<0.37,>=0.36.0rc1 in /home/szy/.local/lib/python3.6/site-packages (from numba>=0.45.1->librosa>=0.8.0->espnet) (0.36.0)\n",
      "Requirement already satisfied: appdirs>=1.3.0 in /home/szy/.local/lib/python3.6/site-packages (from pooch>=1.0->librosa>=0.8.0->espnet) (1.4.4)\n",
      "Requirement already satisfied: idna<4,>=2.5 in /usr/lib/python3/dist-packages (from requests<3,>=2.21.0->tensorboard>=1.14->espnet) (2.6)\n",
      "Requirement already satisfied: certifi>=2017.4.17 in /usr/lib/python3/dist-packages (from requests<3,>=2.21.0->tensorboard>=1.14->espnet) (2018.1.18)\n",
      "Requirement already satisfied: urllib3<1.27,>=1.21.1 in /usr/lib/python3/dist-packages (from requests<3,>=2.21.0->tensorboard>=1.14->espnet) (1.22)\n",
      "Requirement already satisfied: charset-normalizer~=2.0.0 in /home/szy/.local/lib/python3.6/site-packages (from requests<3,>=2.21.0->tensorboard>=1.14->espnet) (2.0.12)\n",
      "Requirement already satisfied: threadpoolctl>=2.0.0 in /home/szy/.local/lib/python3.6/site-packages (from scikit-learn>=0.19.1->librosa>=0.8.0->espnet) (3.1.0)\n",
      "Requirement already satisfied: termcolor<2.0.0,>=1.1.0 in /home/szy/.local/lib/python3.6/site-packages (from yaspin>=1.0.0->wandb->espnet) (1.1.0)\n",
      "Requirement already satisfied: distance>=0.1.3 in /home/szy/.local/lib/python3.6/site-packages (from g2p-en->espnet-tts-frontend->espnet) (0.1.3)\n",
      "Requirement already satisfied: smmap<6,>=3.0.1 in /home/szy/.local/lib/python3.6/site-packages (from gitdb<5,>=4.0.1->GitPython>=1.0.0->wandb->espnet) (5.0.0)\n",
      "Requirement already satisfied: zipp>=0.5 in /usr/local/lib/python3.6/dist-packages (from importlib-metadata->click->nara-wpe>=0.0.5->espnet) (3.6.0)\n",
      "Requirement already satisfied: pyasn1<0.5.0,>=0.4.6 in /home/szy/.local/lib/python3.6/site-packages (from pyasn1-modules>=0.2.1->google-auth<2,>=1.6.3->tensorboard>=1.14->espnet) (0.4.8)\n",
      "Requirement already satisfied: oauthlib>=3.0.0 in /home/szy/.local/lib/python3.6/site-packages (from requests-oauthlib>=0.7.0->google-auth-oauthlib<0.5,>=0.4.1->tensorboard>=1.14->espnet) (3.2.0)\n"
     ]
    }
   ],
   "source": [
    "#model.compile(loss='categorical_crossentropy',metrics=['accuracy'],optimizer='adam')\n",
    "!pip install espnet"
   ]
  },
  {
   "cell_type": "code",
   "execution_count": 130,
   "id": "e9403c42",
   "metadata": {},
   "outputs": [
    {
     "name": "stdout",
     "output_type": "stream",
     "text": [
      "Epoch 1/100\n",
      "219/219 [==============================] - 1s 2ms/step - loss: 9.7697 - accuracy: 0.1181 - val_loss: 2.2931 - val_accuracy: 0.1196\n",
      "\n",
      "Epoch 00001: val_loss improved from inf to 2.29314, saving model to saved_models/audio_classification.hdf5\n",
      "Epoch 2/100\n",
      "219/219 [==============================] - 0s 2ms/step - loss: 2.5205 - accuracy: 0.1197 - val_loss: 2.2809 - val_accuracy: 0.1156\n",
      "\n",
      "Epoch 00002: val_loss improved from 2.29314 to 2.28091, saving model to saved_models/audio_classification.hdf5\n",
      "Epoch 3/100\n",
      "219/219 [==============================] - 0s 1ms/step - loss: 2.3331 - accuracy: 0.1152 - val_loss: 2.2660 - val_accuracy: 0.1271\n",
      "\n",
      "Epoch 00003: val_loss improved from 2.28091 to 2.26604, saving model to saved_models/audio_classification.hdf5\n",
      "Epoch 4/100\n",
      "219/219 [==============================] - 0s 2ms/step - loss: 2.2811 - accuracy: 0.1177 - val_loss: 2.2355 - val_accuracy: 0.1380\n",
      "\n",
      "Epoch 00004: val_loss improved from 2.26604 to 2.23553, saving model to saved_models/audio_classification.hdf5\n",
      "Epoch 5/100\n",
      "219/219 [==============================] - 0s 1ms/step - loss: 2.2466 - accuracy: 0.1284 - val_loss: 2.1774 - val_accuracy: 0.1689\n",
      "\n",
      "Epoch 00005: val_loss improved from 2.23553 to 2.17739, saving model to saved_models/audio_classification.hdf5\n",
      "Epoch 6/100\n",
      "219/219 [==============================] - 0s 2ms/step - loss: 2.2132 - accuracy: 0.1681 - val_loss: 2.1250 - val_accuracy: 0.1975\n",
      "\n",
      "Epoch 00006: val_loss improved from 2.17739 to 2.12501, saving model to saved_models/audio_classification.hdf5\n",
      "Epoch 7/100\n",
      "219/219 [==============================] - 0s 1ms/step - loss: 2.1803 - accuracy: 0.1824 - val_loss: 2.0951 - val_accuracy: 0.2072\n",
      "\n",
      "Epoch 00007: val_loss improved from 2.12501 to 2.09506, saving model to saved_models/audio_classification.hdf5\n",
      "Epoch 8/100\n",
      "219/219 [==============================] - 0s 1ms/step - loss: 2.1483 - accuracy: 0.1838 - val_loss: 2.0566 - val_accuracy: 0.2261\n",
      "\n",
      "Epoch 00008: val_loss improved from 2.09506 to 2.05656, saving model to saved_models/audio_classification.hdf5\n",
      "Epoch 9/100\n",
      "219/219 [==============================] - 0s 1ms/step - loss: 2.1128 - accuracy: 0.2092 - val_loss: 2.0311 - val_accuracy: 0.2187\n",
      "\n",
      "Epoch 00009: val_loss improved from 2.05656 to 2.03108, saving model to saved_models/audio_classification.hdf5\n",
      "Epoch 10/100\n",
      "219/219 [==============================] - 0s 1ms/step - loss: 2.0821 - accuracy: 0.2182 - val_loss: 1.9819 - val_accuracy: 0.2914\n",
      "\n",
      "Epoch 00010: val_loss improved from 2.03108 to 1.98186, saving model to saved_models/audio_classification.hdf5\n",
      "Epoch 11/100\n",
      "219/219 [==============================] - 0s 1ms/step - loss: 2.0160 - accuracy: 0.2515 - val_loss: 1.8558 - val_accuracy: 0.3389\n",
      "\n",
      "Epoch 00011: val_loss improved from 1.98186 to 1.85575, saving model to saved_models/audio_classification.hdf5\n",
      "Epoch 12/100\n",
      "219/219 [==============================] - 0s 2ms/step - loss: 1.9590 - accuracy: 0.2628 - val_loss: 1.8360 - val_accuracy: 0.3515\n",
      "\n",
      "Epoch 00012: val_loss improved from 1.85575 to 1.83605, saving model to saved_models/audio_classification.hdf5\n",
      "Epoch 13/100\n",
      "219/219 [==============================] - 0s 2ms/step - loss: 1.9007 - accuracy: 0.2913 - val_loss: 1.7212 - val_accuracy: 0.3772\n",
      "\n",
      "Epoch 00013: val_loss improved from 1.83605 to 1.72118, saving model to saved_models/audio_classification.hdf5\n",
      "Epoch 14/100\n",
      "219/219 [==============================] - 0s 1ms/step - loss: 1.8435 - accuracy: 0.3162 - val_loss: 1.6509 - val_accuracy: 0.4093\n",
      "\n",
      "Epoch 00014: val_loss improved from 1.72118 to 1.65092, saving model to saved_models/audio_classification.hdf5\n",
      "Epoch 15/100\n",
      "219/219 [==============================] - 0s 1ms/step - loss: 1.8021 - accuracy: 0.3400 - val_loss: 1.6325 - val_accuracy: 0.4299\n",
      "\n",
      "Epoch 00015: val_loss improved from 1.65092 to 1.63250, saving model to saved_models/audio_classification.hdf5\n",
      "Epoch 16/100\n",
      "219/219 [==============================] - 0s 1ms/step - loss: 1.7460 - accuracy: 0.3698 - val_loss: 1.5753 - val_accuracy: 0.4533\n",
      "\n",
      "Epoch 00016: val_loss improved from 1.63250 to 1.57529, saving model to saved_models/audio_classification.hdf5\n",
      "Epoch 17/100\n",
      "219/219 [==============================] - 0s 1ms/step - loss: 1.7133 - accuracy: 0.3801 - val_loss: 1.5161 - val_accuracy: 0.4854\n",
      "\n",
      "Epoch 00017: val_loss improved from 1.57529 to 1.51605, saving model to saved_models/audio_classification.hdf5\n",
      "Epoch 18/100\n",
      "219/219 [==============================] - 0s 1ms/step - loss: 1.6739 - accuracy: 0.3999 - val_loss: 1.4794 - val_accuracy: 0.5049\n",
      "\n",
      "Epoch 00018: val_loss improved from 1.51605 to 1.47940, saving model to saved_models/audio_classification.hdf5\n",
      "Epoch 19/100\n",
      "219/219 [==============================] - 0s 1ms/step - loss: 1.6450 - accuracy: 0.4103 - val_loss: 1.4338 - val_accuracy: 0.5163\n",
      "\n",
      "Epoch 00019: val_loss improved from 1.47940 to 1.43375, saving model to saved_models/audio_classification.hdf5\n",
      "Epoch 20/100\n",
      "219/219 [==============================] - 0s 1ms/step - loss: 1.5929 - accuracy: 0.4259 - val_loss: 1.4067 - val_accuracy: 0.5404\n",
      "\n",
      "Epoch 00020: val_loss improved from 1.43375 to 1.40671, saving model to saved_models/audio_classification.hdf5\n",
      "Epoch 21/100\n",
      "219/219 [==============================] - 0s 1ms/step - loss: 1.5728 - accuracy: 0.4448 - val_loss: 1.3831 - val_accuracy: 0.5472\n",
      "\n",
      "Epoch 00021: val_loss improved from 1.40671 to 1.38310, saving model to saved_models/audio_classification.hdf5\n",
      "Epoch 22/100\n",
      "219/219 [==============================] - 0s 1ms/step - loss: 1.5289 - accuracy: 0.4669 - val_loss: 1.3167 - val_accuracy: 0.5753\n",
      "\n",
      "Epoch 00022: val_loss improved from 1.38310 to 1.31669, saving model to saved_models/audio_classification.hdf5\n",
      "Epoch 23/100\n",
      "219/219 [==============================] - 0s 1ms/step - loss: 1.5065 - accuracy: 0.4752 - val_loss: 1.3593 - val_accuracy: 0.5301\n",
      "\n",
      "Epoch 00023: val_loss did not improve from 1.31669\n",
      "Epoch 24/100\n",
      "219/219 [==============================] - 0s 1ms/step - loss: 1.4835 - accuracy: 0.4815 - val_loss: 1.2864 - val_accuracy: 0.5879\n",
      "\n",
      "Epoch 00024: val_loss improved from 1.31669 to 1.28637, saving model to saved_models/audio_classification.hdf5\n",
      "Epoch 25/100\n",
      "219/219 [==============================] - 0s 2ms/step - loss: 1.4650 - accuracy: 0.4905 - val_loss: 1.2479 - val_accuracy: 0.5787\n",
      "\n",
      "Epoch 00025: val_loss improved from 1.28637 to 1.24792, saving model to saved_models/audio_classification.hdf5\n",
      "Epoch 26/100\n",
      "219/219 [==============================] - 0s 2ms/step - loss: 1.4128 - accuracy: 0.5085 - val_loss: 1.1983 - val_accuracy: 0.6125\n",
      "\n",
      "Epoch 00026: val_loss improved from 1.24792 to 1.19832, saving model to saved_models/audio_classification.hdf5\n",
      "Epoch 27/100\n",
      "219/219 [==============================] - 0s 2ms/step - loss: 1.4026 - accuracy: 0.5180 - val_loss: 1.1713 - val_accuracy: 0.6325\n",
      "\n",
      "Epoch 00027: val_loss improved from 1.19832 to 1.17130, saving model to saved_models/audio_classification.hdf5\n",
      "Epoch 28/100\n",
      "219/219 [==============================] - 0s 2ms/step - loss: 1.3873 - accuracy: 0.5191 - val_loss: 1.1466 - val_accuracy: 0.6440\n",
      "\n",
      "Epoch 00028: val_loss improved from 1.17130 to 1.14659, saving model to saved_models/audio_classification.hdf5\n",
      "Epoch 29/100\n",
      "219/219 [==============================] - 0s 2ms/step - loss: 1.3592 - accuracy: 0.5313 - val_loss: 1.1483 - val_accuracy: 0.6382\n",
      "\n",
      "Epoch 00029: val_loss did not improve from 1.14659\n",
      "Epoch 30/100\n",
      "219/219 [==============================] - 0s 2ms/step - loss: 1.3276 - accuracy: 0.5439 - val_loss: 1.1241 - val_accuracy: 0.6216\n",
      "\n",
      "Epoch 00030: val_loss improved from 1.14659 to 1.12408, saving model to saved_models/audio_classification.hdf5\n",
      "Epoch 31/100\n",
      "219/219 [==============================] - 0s 2ms/step - loss: 1.3176 - accuracy: 0.5459 - val_loss: 1.1216 - val_accuracy: 0.6445\n",
      "\n",
      "Epoch 00031: val_loss improved from 1.12408 to 1.12155, saving model to saved_models/audio_classification.hdf5\n",
      "Epoch 32/100\n",
      "219/219 [==============================] - 0s 2ms/step - loss: 1.2859 - accuracy: 0.5553 - val_loss: 1.0754 - val_accuracy: 0.6537\n",
      "\n",
      "Epoch 00032: val_loss improved from 1.12155 to 1.07537, saving model to saved_models/audio_classification.hdf5\n",
      "Epoch 33/100\n",
      "219/219 [==============================] - 0s 2ms/step - loss: 1.2789 - accuracy: 0.5638 - val_loss: 1.1048 - val_accuracy: 0.6497\n"
     ]
    },
    {
     "name": "stdout",
     "output_type": "stream",
     "text": [
      "\n",
      "Epoch 00033: val_loss did not improve from 1.07537\n",
      "Epoch 34/100\n",
      "219/219 [==============================] - 0s 1ms/step - loss: 1.2909 - accuracy: 0.5578 - val_loss: 1.0998 - val_accuracy: 0.6531\n",
      "\n",
      "Epoch 00034: val_loss did not improve from 1.07537\n",
      "Epoch 35/100\n",
      "219/219 [==============================] - 0s 2ms/step - loss: 1.2429 - accuracy: 0.5731 - val_loss: 1.0605 - val_accuracy: 0.6531\n",
      "\n",
      "Epoch 00035: val_loss improved from 1.07537 to 1.06047, saving model to saved_models/audio_classification.hdf5\n",
      "Epoch 36/100\n",
      "219/219 [==============================] - 0s 2ms/step - loss: 1.2372 - accuracy: 0.5777 - val_loss: 1.0421 - val_accuracy: 0.6617\n",
      "\n",
      "Epoch 00036: val_loss improved from 1.06047 to 1.04211, saving model to saved_models/audio_classification.hdf5\n",
      "Epoch 37/100\n",
      "219/219 [==============================] - 0s 2ms/step - loss: 1.2195 - accuracy: 0.5777 - val_loss: 1.0427 - val_accuracy: 0.6611\n",
      "\n",
      "Epoch 00037: val_loss did not improve from 1.04211\n",
      "Epoch 38/100\n",
      "219/219 [==============================] - 0s 2ms/step - loss: 1.2179 - accuracy: 0.5871 - val_loss: 1.0442 - val_accuracy: 0.6726\n",
      "\n",
      "Epoch 00038: val_loss did not improve from 1.04211\n",
      "Epoch 39/100\n",
      "219/219 [==============================] - 0s 2ms/step - loss: 1.1809 - accuracy: 0.5967 - val_loss: 1.0220 - val_accuracy: 0.6703\n",
      "\n",
      "Epoch 00039: val_loss improved from 1.04211 to 1.02197, saving model to saved_models/audio_classification.hdf5\n",
      "Epoch 40/100\n",
      "219/219 [==============================] - 0s 2ms/step - loss: 1.2007 - accuracy: 0.5969 - val_loss: 1.0263 - val_accuracy: 0.6800\n",
      "\n",
      "Epoch 00040: val_loss did not improve from 1.02197\n",
      "Epoch 41/100\n",
      "219/219 [==============================] - 0s 2ms/step - loss: 1.1981 - accuracy: 0.5986 - val_loss: 1.0072 - val_accuracy: 0.6795\n",
      "\n",
      "Epoch 00041: val_loss improved from 1.02197 to 1.00716, saving model to saved_models/audio_classification.hdf5\n",
      "Epoch 42/100\n",
      "219/219 [==============================] - 0s 1ms/step - loss: 1.1645 - accuracy: 0.6060 - val_loss: 1.0055 - val_accuracy: 0.6892\n",
      "\n",
      "Epoch 00042: val_loss improved from 1.00716 to 1.00554, saving model to saved_models/audio_classification.hdf5\n",
      "Epoch 43/100\n",
      "219/219 [==============================] - 0s 1ms/step - loss: 1.1571 - accuracy: 0.6053 - val_loss: 1.0096 - val_accuracy: 0.6772\n",
      "\n",
      "Epoch 00043: val_loss did not improve from 1.00554\n",
      "Epoch 44/100\n",
      "219/219 [==============================] - 0s 2ms/step - loss: 1.1378 - accuracy: 0.6172 - val_loss: 0.9786 - val_accuracy: 0.6886\n",
      "\n",
      "Epoch 00044: val_loss improved from 1.00554 to 0.97859, saving model to saved_models/audio_classification.hdf5\n",
      "Epoch 45/100\n",
      "219/219 [==============================] - 0s 1ms/step - loss: 1.1661 - accuracy: 0.6083 - val_loss: 0.9776 - val_accuracy: 0.6909\n",
      "\n",
      "Epoch 00045: val_loss improved from 0.97859 to 0.97760, saving model to saved_models/audio_classification.hdf5\n",
      "Epoch 46/100\n",
      "219/219 [==============================] - 0s 1ms/step - loss: 1.1428 - accuracy: 0.6176 - val_loss: 0.9440 - val_accuracy: 0.6995\n",
      "\n",
      "Epoch 00046: val_loss improved from 0.97760 to 0.94397, saving model to saved_models/audio_classification.hdf5\n",
      "Epoch 47/100\n",
      "219/219 [==============================] - 0s 1ms/step - loss: 1.1403 - accuracy: 0.6140 - val_loss: 0.9605 - val_accuracy: 0.6949\n",
      "\n",
      "Epoch 00047: val_loss did not improve from 0.94397\n",
      "Epoch 48/100\n",
      "219/219 [==============================] - 0s 1ms/step - loss: 1.1544 - accuracy: 0.6100 - val_loss: 0.9692 - val_accuracy: 0.6880\n",
      "\n",
      "Epoch 00048: val_loss did not improve from 0.94397\n",
      "Epoch 49/100\n",
      "219/219 [==============================] - 0s 1ms/step - loss: 1.1149 - accuracy: 0.6206 - val_loss: 0.9458 - val_accuracy: 0.6966\n",
      "\n",
      "Epoch 00049: val_loss did not improve from 0.94397\n",
      "Epoch 50/100\n",
      "219/219 [==============================] - 0s 1ms/step - loss: 1.1128 - accuracy: 0.6295 - val_loss: 0.9438 - val_accuracy: 0.6995\n",
      "\n",
      "Epoch 00050: val_loss improved from 0.94397 to 0.94376, saving model to saved_models/audio_classification.hdf5\n",
      "Epoch 51/100\n",
      "219/219 [==============================] - 0s 1ms/step - loss: 1.1033 - accuracy: 0.6279 - val_loss: 0.9305 - val_accuracy: 0.7155\n",
      "\n",
      "Epoch 00051: val_loss improved from 0.94376 to 0.93054, saving model to saved_models/audio_classification.hdf5\n",
      "Epoch 52/100\n",
      "219/219 [==============================] - 0s 1ms/step - loss: 1.0992 - accuracy: 0.6339 - val_loss: 0.9324 - val_accuracy: 0.6920\n",
      "\n",
      "Epoch 00052: val_loss did not improve from 0.93054\n",
      "Epoch 53/100\n",
      "219/219 [==============================] - 0s 1ms/step - loss: 1.0945 - accuracy: 0.6311 - val_loss: 0.9103 - val_accuracy: 0.7195\n",
      "\n",
      "Epoch 00053: val_loss improved from 0.93054 to 0.91028, saving model to saved_models/audio_classification.hdf5\n",
      "Epoch 54/100\n",
      "219/219 [==============================] - 0s 2ms/step - loss: 1.1036 - accuracy: 0.6266 - val_loss: 0.9306 - val_accuracy: 0.7064\n",
      "\n",
      "Epoch 00054: val_loss did not improve from 0.91028\n",
      "Epoch 55/100\n",
      "219/219 [==============================] - 0s 2ms/step - loss: 1.0734 - accuracy: 0.6374 - val_loss: 0.9371 - val_accuracy: 0.6989\n",
      "\n",
      "Epoch 00055: val_loss did not improve from 0.91028\n",
      "Epoch 56/100\n",
      "219/219 [==============================] - 0s 1ms/step - loss: 1.0899 - accuracy: 0.6375 - val_loss: 0.9170 - val_accuracy: 0.7064\n",
      "\n",
      "Epoch 00056: val_loss did not improve from 0.91028\n",
      "Epoch 57/100\n",
      "219/219 [==============================] - 0s 1ms/step - loss: 1.0622 - accuracy: 0.6450 - val_loss: 0.8763 - val_accuracy: 0.7184\n",
      "\n",
      "Epoch 00057: val_loss improved from 0.91028 to 0.87627, saving model to saved_models/audio_classification.hdf5\n",
      "Epoch 58/100\n",
      "219/219 [==============================] - 0s 1ms/step - loss: 1.0592 - accuracy: 0.6452 - val_loss: 0.8943 - val_accuracy: 0.7172\n",
      "\n",
      "Epoch 00058: val_loss did not improve from 0.87627\n",
      "Epoch 59/100\n",
      "219/219 [==============================] - 0s 2ms/step - loss: 1.0670 - accuracy: 0.6364 - val_loss: 0.8994 - val_accuracy: 0.7149\n",
      "\n",
      "Epoch 00059: val_loss did not improve from 0.87627\n",
      "Epoch 60/100\n",
      "219/219 [==============================] - 0s 1ms/step - loss: 1.0463 - accuracy: 0.6429 - val_loss: 0.8833 - val_accuracy: 0.7144\n",
      "\n",
      "Epoch 00060: val_loss did not improve from 0.87627\n",
      "Epoch 61/100\n",
      "219/219 [==============================] - 0s 1ms/step - loss: 1.0505 - accuracy: 0.6434 - val_loss: 0.8605 - val_accuracy: 0.7241\n",
      "\n",
      "Epoch 00061: val_loss improved from 0.87627 to 0.86053, saving model to saved_models/audio_classification.hdf5\n",
      "Epoch 62/100\n",
      "219/219 [==============================] - 0s 1ms/step - loss: 1.0471 - accuracy: 0.6497 - val_loss: 0.8942 - val_accuracy: 0.7275\n",
      "\n",
      "Epoch 00062: val_loss did not improve from 0.86053\n",
      "Epoch 63/100\n",
      "219/219 [==============================] - 0s 1ms/step - loss: 1.0483 - accuracy: 0.6495 - val_loss: 0.8768 - val_accuracy: 0.7264\n",
      "\n",
      "Epoch 00063: val_loss did not improve from 0.86053\n",
      "Epoch 64/100\n",
      "219/219 [==============================] - 0s 1ms/step - loss: 1.0256 - accuracy: 0.6568 - val_loss: 0.8468 - val_accuracy: 0.7310\n",
      "\n",
      "Epoch 00064: val_loss improved from 0.86053 to 0.84680, saving model to saved_models/audio_classification.hdf5\n",
      "Epoch 65/100\n",
      "219/219 [==============================] - 0s 1ms/step - loss: 1.0396 - accuracy: 0.6510 - val_loss: 0.8622 - val_accuracy: 0.7201\n",
      "\n",
      "Epoch 00065: val_loss did not improve from 0.84680\n",
      "Epoch 66/100\n",
      "219/219 [==============================] - 0s 1ms/step - loss: 1.0323 - accuracy: 0.6497 - val_loss: 0.8903 - val_accuracy: 0.7161\n",
      "\n",
      "Epoch 00066: val_loss did not improve from 0.84680\n",
      "Epoch 67/100\n",
      "219/219 [==============================] - 0s 1ms/step - loss: 1.0426 - accuracy: 0.6482 - val_loss: 0.8480 - val_accuracy: 0.7270\n",
      "\n",
      "Epoch 00067: val_loss did not improve from 0.84680\n",
      "Epoch 68/100\n",
      "219/219 [==============================] - 0s 1ms/step - loss: 1.0225 - accuracy: 0.6574 - val_loss: 0.8478 - val_accuracy: 0.7355\n",
      "\n",
      "Epoch 00068: val_loss did not improve from 0.84680\n",
      "Epoch 69/100\n",
      "219/219 [==============================] - 0s 1ms/step - loss: 1.0242 - accuracy: 0.6581 - val_loss: 0.8657 - val_accuracy: 0.7275\n",
      "\n",
      "Epoch 00069: val_loss did not improve from 0.84680\n",
      "Epoch 70/100\n",
      "219/219 [==============================] - 0s 1ms/step - loss: 1.0240 - accuracy: 0.6663 - val_loss: 0.8439 - val_accuracy: 0.7281\n",
      "\n",
      "Epoch 00070: val_loss improved from 0.84680 to 0.84393, saving model to saved_models/audio_classification.hdf5\n",
      "Epoch 71/100\n"
     ]
    },
    {
     "name": "stdout",
     "output_type": "stream",
     "text": [
      "219/219 [==============================] - 0s 1ms/step - loss: 1.0266 - accuracy: 0.6628 - val_loss: 0.8715 - val_accuracy: 0.7344\n",
      "\n",
      "Epoch 00071: val_loss did not improve from 0.84393\n",
      "Epoch 72/100\n",
      "219/219 [==============================] - 0s 1ms/step - loss: 1.0250 - accuracy: 0.6604 - val_loss: 0.8439 - val_accuracy: 0.7396\n",
      "\n",
      "Epoch 00072: val_loss improved from 0.84393 to 0.84390, saving model to saved_models/audio_classification.hdf5\n",
      "Epoch 73/100\n",
      "219/219 [==============================] - 0s 1ms/step - loss: 0.9947 - accuracy: 0.6663 - val_loss: 0.8252 - val_accuracy: 0.7459\n",
      "\n",
      "Epoch 00073: val_loss improved from 0.84390 to 0.82520, saving model to saved_models/audio_classification.hdf5\n",
      "Epoch 74/100\n",
      "219/219 [==============================] - 0s 1ms/step - loss: 1.0155 - accuracy: 0.6620 - val_loss: 0.8523 - val_accuracy: 0.7384\n",
      "\n",
      "Epoch 00074: val_loss did not improve from 0.82520\n",
      "Epoch 75/100\n",
      "219/219 [==============================] - 0s 1ms/step - loss: 1.0095 - accuracy: 0.6651 - val_loss: 0.8365 - val_accuracy: 0.7373\n",
      "\n",
      "Epoch 00075: val_loss did not improve from 0.82520\n",
      "Epoch 76/100\n",
      "219/219 [==============================] - 0s 1ms/step - loss: 1.0031 - accuracy: 0.6593 - val_loss: 0.8164 - val_accuracy: 0.7510\n",
      "\n",
      "Epoch 00076: val_loss improved from 0.82520 to 0.81638, saving model to saved_models/audio_classification.hdf5\n",
      "Epoch 77/100\n",
      "219/219 [==============================] - 0s 1ms/step - loss: 0.9857 - accuracy: 0.6620 - val_loss: 0.8315 - val_accuracy: 0.7327\n",
      "\n",
      "Epoch 00077: val_loss did not improve from 0.81638\n",
      "Epoch 78/100\n",
      "219/219 [==============================] - 0s 1ms/step - loss: 1.0144 - accuracy: 0.6560 - val_loss: 0.8177 - val_accuracy: 0.7447\n",
      "\n",
      "Epoch 00078: val_loss did not improve from 0.81638\n",
      "Epoch 79/100\n",
      "219/219 [==============================] - 0s 1ms/step - loss: 0.9955 - accuracy: 0.6631 - val_loss: 0.8167 - val_accuracy: 0.7436\n",
      "\n",
      "Epoch 00079: val_loss did not improve from 0.81638\n",
      "Epoch 80/100\n",
      "219/219 [==============================] - 0s 1ms/step - loss: 1.0137 - accuracy: 0.6580 - val_loss: 0.8179 - val_accuracy: 0.7407\n",
      "\n",
      "Epoch 00080: val_loss did not improve from 0.81638\n",
      "Epoch 81/100\n",
      "219/219 [==============================] - 0s 1ms/step - loss: 0.9913 - accuracy: 0.6600 - val_loss: 0.8248 - val_accuracy: 0.7361\n",
      "\n",
      "Epoch 00081: val_loss did not improve from 0.81638\n",
      "Epoch 82/100\n",
      "219/219 [==============================] - 0s 1ms/step - loss: 0.9721 - accuracy: 0.6767 - val_loss: 0.8079 - val_accuracy: 0.7413\n",
      "\n",
      "Epoch 00082: val_loss improved from 0.81638 to 0.80788, saving model to saved_models/audio_classification.hdf5\n",
      "Epoch 83/100\n",
      "219/219 [==============================] - 0s 1ms/step - loss: 0.9962 - accuracy: 0.6627 - val_loss: 0.8229 - val_accuracy: 0.7310\n",
      "\n",
      "Epoch 00083: val_loss did not improve from 0.80788\n",
      "Epoch 84/100\n",
      "219/219 [==============================] - 0s 1ms/step - loss: 0.9855 - accuracy: 0.6687 - val_loss: 0.8054 - val_accuracy: 0.7504\n",
      "\n",
      "Epoch 00084: val_loss improved from 0.80788 to 0.80543, saving model to saved_models/audio_classification.hdf5\n",
      "Epoch 85/100\n",
      "219/219 [==============================] - 0s 1ms/step - loss: 1.0148 - accuracy: 0.6647 - val_loss: 0.8083 - val_accuracy: 0.7481\n",
      "\n",
      "Epoch 00085: val_loss did not improve from 0.80543\n",
      "Epoch 86/100\n",
      "219/219 [==============================] - 0s 1ms/step - loss: 1.0030 - accuracy: 0.6691 - val_loss: 0.7931 - val_accuracy: 0.7499\n",
      "\n",
      "Epoch 00086: val_loss improved from 0.80543 to 0.79314, saving model to saved_models/audio_classification.hdf5\n",
      "Epoch 87/100\n",
      "219/219 [==============================] - 0s 1ms/step - loss: 1.0038 - accuracy: 0.6660 - val_loss: 0.8095 - val_accuracy: 0.7516\n",
      "\n",
      "Epoch 00087: val_loss did not improve from 0.79314\n",
      "Epoch 88/100\n",
      "219/219 [==============================] - 0s 2ms/step - loss: 0.9853 - accuracy: 0.6730 - val_loss: 0.7923 - val_accuracy: 0.7573\n",
      "\n",
      "Epoch 00088: val_loss improved from 0.79314 to 0.79231, saving model to saved_models/audio_classification.hdf5\n",
      "Epoch 89/100\n",
      "219/219 [==============================] - 0s 1ms/step - loss: 0.9662 - accuracy: 0.6690 - val_loss: 0.8162 - val_accuracy: 0.7521\n",
      "\n",
      "Epoch 00089: val_loss did not improve from 0.79231\n",
      "Epoch 90/100\n",
      "219/219 [==============================] - 0s 1ms/step - loss: 0.9723 - accuracy: 0.6796 - val_loss: 0.7913 - val_accuracy: 0.7504\n",
      "\n",
      "Epoch 00090: val_loss improved from 0.79231 to 0.79126, saving model to saved_models/audio_classification.hdf5\n",
      "Epoch 91/100\n",
      "219/219 [==============================] - 0s 1ms/step - loss: 0.9594 - accuracy: 0.6809 - val_loss: 0.7978 - val_accuracy: 0.7441\n",
      "\n",
      "Epoch 00091: val_loss did not improve from 0.79126\n",
      "Epoch 92/100\n",
      "219/219 [==============================] - 0s 1ms/step - loss: 0.9872 - accuracy: 0.6687 - val_loss: 0.8094 - val_accuracy: 0.7378\n",
      "\n",
      "Epoch 00092: val_loss did not improve from 0.79126\n",
      "Epoch 93/100\n",
      "219/219 [==============================] - 0s 1ms/step - loss: 0.9512 - accuracy: 0.6769 - val_loss: 0.7869 - val_accuracy: 0.7579\n",
      "\n",
      "Epoch 00093: val_loss improved from 0.79126 to 0.78686, saving model to saved_models/audio_classification.hdf5\n",
      "Epoch 94/100\n",
      "219/219 [==============================] - 0s 1ms/step - loss: 0.9704 - accuracy: 0.6825 - val_loss: 0.7716 - val_accuracy: 0.7624\n",
      "\n",
      "Epoch 00094: val_loss improved from 0.78686 to 0.77159, saving model to saved_models/audio_classification.hdf5\n",
      "Epoch 95/100\n",
      "219/219 [==============================] - 0s 1ms/step - loss: 0.9584 - accuracy: 0.6849 - val_loss: 0.7665 - val_accuracy: 0.7676\n",
      "\n",
      "Epoch 00095: val_loss improved from 0.77159 to 0.76649, saving model to saved_models/audio_classification.hdf5\n",
      "Epoch 96/100\n",
      "219/219 [==============================] - 0s 1ms/step - loss: 0.9636 - accuracy: 0.6806 - val_loss: 0.7685 - val_accuracy: 0.7665\n",
      "\n",
      "Epoch 00096: val_loss did not improve from 0.76649\n",
      "Epoch 97/100\n",
      "219/219 [==============================] - 0s 1ms/step - loss: 0.9490 - accuracy: 0.6810 - val_loss: 0.7870 - val_accuracy: 0.7562\n",
      "\n",
      "Epoch 00097: val_loss did not improve from 0.76649\n",
      "Epoch 98/100\n",
      "219/219 [==============================] - 0s 1ms/step - loss: 0.9661 - accuracy: 0.6750 - val_loss: 0.7767 - val_accuracy: 0.7693\n",
      "\n",
      "Epoch 00098: val_loss did not improve from 0.76649\n",
      "Epoch 99/100\n",
      "219/219 [==============================] - 0s 1ms/step - loss: 0.9368 - accuracy: 0.6858 - val_loss: 0.7676 - val_accuracy: 0.7596\n",
      "\n",
      "Epoch 00099: val_loss did not improve from 0.76649\n",
      "Epoch 100/100\n",
      "219/219 [==============================] - 0s 1ms/step - loss: 0.9456 - accuracy: 0.6870 - val_loss: 0.7776 - val_accuracy: 0.7521\n",
      "\n",
      "Epoch 00100: val_loss did not improve from 0.76649\n",
      "Training completed in time:  0:00:33.421192\n"
     ]
    }
   ],
   "source": [
    "## Trianing my model\n",
    "from tensorflow.keras.callbacks import ModelCheckpoint\n",
    "from datetime import datetime \n",
    "\n",
    "num_epochs = 100\n",
    "num_batch_size = 32\n",
    "\n",
    "checkpointer = ModelCheckpoint(filepath='saved_models/audio_classification.hdf5', \n",
    "                               verbose=1, save_best_only=True)\n",
    "start = datetime.now()\n",
    "\n",
    "model.fit(X_train, y_train, batch_size=num_batch_size, epochs=num_epochs, validation_data=(X_test, y_test), callbacks=[checkpointer], verbose=1)\n",
    "\n",
    "\n",
    "duration = datetime.now() - start\n",
    "print(\"Training completed in time: \", duration)"
   ]
  },
  {
   "cell_type": "code",
   "execution_count": 228,
   "id": "b19e0a73",
   "metadata": {},
   "outputs": [
    {
     "name": "stdout",
     "output_type": "stream",
     "text": [
      "0.7521465420722961\n"
     ]
    }
   ],
   "source": [
    "test_accuracy=model.evaluate(X_test,y_test,verbose=0)\n",
    "print(test_accuracy[1])"
   ]
  },
  {
   "cell_type": "code",
   "execution_count": 229,
   "id": "5a579246",
   "metadata": {},
   "outputs": [
    {
     "data": {
      "text/plain": [
       "array([[0.11668561, 0.02273892, 0.11872515, 0.08204152, 0.01755645,\n",
       "        0.44369352, 0.01367685, 0.00993255, 0.03485312, 0.14009623]],\n",
       "      dtype=float32)"
      ]
     },
     "execution_count": 229,
     "metadata": {},
     "output_type": "execute_result"
    }
   ],
   "source": [
    "file_name\n",
    "mfccs_features_pred = librosa.feature.mfcc(y=data, sr=sample_rate, n_mfcc=40)\n",
    "prediction_feat = np.mean(mfccs_features_pred.T,axis=0)\n",
    "model.predict(prediction_feat.reshape(1,-1))"
   ]
  },
  {
   "cell_type": "code",
   "execution_count": 230,
   "id": "b3b72ee9",
   "metadata": {},
   "outputs": [
    {
     "name": "stdout",
     "output_type": "stream",
     "text": [
      "['dog_bark' 'children_playing' 'car_horn' 'air_conditioner' 'street_music'\n",
      " 'gun_shot' 'siren' 'engine_idling' 'jackhammer' 'drilling']\n"
     ]
    },
    {
     "data": {
      "text/plain": [
       "array([-466.47327   ,    1.501666  ,  -34.400043  ,   35.6894    ,\n",
       "        -15.182924  ,  -18.883924  ,   -0.75772923,  -16.02822   ,\n",
       "        -21.365473  ,    7.6201305 ,  -29.034496  ,  -19.153774  ,\n",
       "         -2.6873193 ,   -8.493191  ,  -14.771136  ,   -7.028892  ,\n",
       "         -7.116945  ,    8.868939  ,   14.91199   ,   21.457466  ,\n",
       "         21.327414  ,    0.8871628 ,  -18.810377  ,   -5.0179625 ,\n",
       "         -0.7058593 ,    2.9008534 ,   -6.7110267 ,  -16.649858  ,\n",
       "         -9.8316965 ,   12.847431  ,    0.6619251 ,  -23.943693  ,\n",
       "        -15.194155  ,    9.193657  ,   10.399715  ,   -0.5999181 ,\n",
       "         -1.2594261 ,   17.706207  ,   13.831076  ,   -5.1632876 ],\n",
       "      dtype=float32)"
      ]
     },
     "execution_count": 230,
     "metadata": {},
     "output_type": "execute_result"
    }
   ],
   "source": [
    "print(metadata['class'].unique())\n",
    "X_test[1]"
   ]
  },
  {
   "cell_type": "code",
   "execution_count": 173,
   "id": "46fb4b28",
   "metadata": {},
   "outputs": [
    {
     "data": {
      "text/plain": [
       "array([[3.9695273e-03, 1.1028805e-03, 9.4748475e-03, ..., 4.7937381e-05,\n",
       "        1.2688412e-03, 1.6410405e-02],\n",
       "       [1.8679767e-10, 2.0978260e-03, 2.2637946e-04, ..., 6.4998289e-13,\n",
       "        8.3366649e-05, 1.6349482e-03],\n",
       "       [5.2325813e-12, 9.5206522e-04, 1.9975609e-07, ..., 2.8298107e-05,\n",
       "        1.8755991e-07, 3.2871350e-04],\n",
       "       ...,\n",
       "       [3.1194585e-08, 8.2574558e-01, 1.1067762e-06, ..., 2.6237331e-08,\n",
       "        2.5404097e-05, 1.7083718e-01],\n",
       "       [3.9482057e-01, 9.3980646e-03, 1.6633753e-01, ..., 2.4373354e-02,\n",
       "        9.0512428e-03, 2.5713950e-01],\n",
       "       [1.3047783e-01, 1.2373943e-02, 3.1737235e-01, ..., 8.1091681e-03,\n",
       "        6.9999479e-02, 1.4925511e-01]], dtype=float32)"
      ]
     },
     "execution_count": 173,
     "metadata": {},
     "output_type": "execute_result"
    }
   ],
   "source": [
    "model.predict(X_test)"
   ]
  },
  {
   "cell_type": "code",
   "execution_count": 174,
   "id": "620cb615",
   "metadata": {},
   "outputs": [],
   "source": [
    "##MODEL DONE## TIME OT CHECK IF WE CAN GET THE ACCURACY UP WITH CNN's AND TEST "
   ]
  },
  {
   "cell_type": "code",
   "execution_count": 238,
   "id": "21f760fc",
   "metadata": {},
   "outputs": [
    {
     "name": "stdout",
     "output_type": "stream",
     "text": [
      "[-200.06895     133.2812      -11.147846     44.516357      4.864973\n",
      "   37.689228    -10.853884      2.2236826    -7.9140816    12.697572\n",
      "   -2.5518258    19.290127      0.9056516    14.77887      -1.2477381\n",
      "   10.992367     -2.045448      1.8477345    -4.658494      5.4965405\n",
      "   -2.1519725     2.5721414    -0.39570183    3.3702416     1.4429462\n",
      "    1.3595328     1.1116714     2.0582123    -2.5192127    -1.3637222\n",
      "    0.4809976     1.0599517     0.6250947    -4.457968     -3.5855925\n",
      "   -2.814347      1.4632263    -5.080375     -2.087301     -1.1157299 ]\n",
      "(40,)\n",
      "[[-200.06895     133.2812      -11.147846     44.516357      4.864973\n",
      "    37.689228    -10.853884      2.2236826    -7.9140816    12.697572\n",
      "    -2.5518258    19.290127      0.9056516    14.77887      -1.2477381\n",
      "    10.992367     -2.045448      1.8477345    -4.658494      5.4965405\n",
      "    -2.1519725     2.5721414    -0.39570183    3.3702416     1.4429462\n",
      "     1.3595328     1.1116714     2.0582123    -2.5192127    -1.3637222\n",
      "     0.4809976     1.0599517     0.6250947    -4.457968     -3.5855925\n",
      "    -2.814347      1.4632263    -5.080375     -2.087301     -1.1157299 ]]\n",
      "(1, 40)\n",
      "[2]\n",
      "[[0.04034126 0.01146634 0.5639696  0.06730287 0.04266706 0.04277502\n",
      "  0.02811349 0.00233062 0.03217444 0.16885926]]\n"
     ]
    },
    {
     "data": {
      "text/plain": [
       "array(['children_playing'], dtype='<U16')"
      ]
     },
     "execution_count": 238,
     "metadata": {},
     "output_type": "execute_result"
    }
   ],
   "source": [
    "file_name=\"UrbanSound8K/acord.wav\"\n",
    "audio, sample_rate = librosa.load(file_name, res_type='kaiser_fast') \n",
    "mfccs_features = librosa.feature.mfcc(y=audio, sr=sample_rate, n_mfcc=40)\n",
    "mfccs_scaled_features = np.mean(mfccs_features.T,axis=0)\n",
    "\n",
    "\n",
    "\n",
    "print(mfccs_scaled_features)\n",
    "print(mfccs_scaled_features.shape)\n",
    "mfccs_scaled_features=mfccs_scaled_features.reshape(1,-1)\n",
    "print(mfccs_scaled_features)\n",
    "print(mfccs_scaled_features.shape)\n",
    "predicted_label=model.predict(mfccs_scaled_features)\n",
    "\n",
    "index_max = [np.argmax(predicted_label[0])]\n",
    "print(index_max)\n",
    "print(predicted_label)\n",
    "prediction_class = labelencoder.inverse_transform(index_max) \n",
    "prediction_class"
   ]
  },
  {
   "cell_type": "code",
   "execution_count": 24,
   "id": "ed315b4a",
   "metadata": {},
   "outputs": [],
   "source": [
    "##################################################################################################################"
   ]
  },
  {
   "cell_type": "code",
   "execution_count": 28,
   "id": "4499c511",
   "metadata": {},
   "outputs": [],
   "source": [
    "from espnet.nets.pytorch_backend.e2e_asr import E2E"
   ]
  },
  {
   "cell_type": "code",
   "execution_count": 29,
   "id": "787fca57",
   "metadata": {},
   "outputs": [],
   "source": [
    "def audio_data(filename, print_graphs = False):\n",
    "    ##Plot and play\n",
    "    data, sample_rate = librosa.load(filename)    \n",
    "    if print_graphs:\n",
    "        plt.figure(figsize =(14,5))\n",
    "        librosa.display.waveshow(data,sr=sample_rate)\n",
    "        ipd.Audio(filename)\n",
    "    return data, sample_rate"
   ]
  },
  {
   "cell_type": "code",
   "execution_count": 102,
   "id": "856f5de8",
   "metadata": {},
   "outputs": [],
   "source": [
    "import numpy as np     \n",
    "import librosa\n",
    "import matplotlib.pyplot as plt\n",
    "import librosa.display\n",
    "import IPython.display as ipd\n",
    "import os\n",
    "import pandas as pd\n",
    "from tqdm import tqdm\n",
    "from scipy.spatial import distance\n",
    "from scipy import spatial\n",
    "#https://librosa.org/doc/main/generated/librosa.util.frame.html"
   ]
  },
  {
   "cell_type": "code",
   "execution_count": 31,
   "id": "79c01478",
   "metadata": {},
   "outputs": [],
   "source": [
    "def window_split(frame_len, hop_len,data, print_frame = False):\n",
    "    frames = librosa.util.frame(data, frame_length=frame_len, hop_length=hop_len)\n",
    "    windowed_frames = np.hanning(frame_len).reshape(-1, 1) * frames\n",
    "    sum_len=0\n",
    "    if print_frame:\n",
    "        # Print frames\n",
    "        for i, frame in enumerate(frames):\n",
    "            print(\"Frame {}: {}\".format(i, frame))\n",
    "            print(\"Length of frame :{}\".format(len(frame)))\n",
    "            sum_len+=len(frame)\n",
    "        print(\"All frames :{}\".format(sum_len))\n",
    "        print(\"More data than original size: {}\".format(len(frames) <= sum_len))\n",
    "        # Print windowed frames\n",
    "        for i, frame in enumerate(windowed_frames):\n",
    "            print(\"Win Frame {}: {}\".format(i, np.round(frame, 3)))\n",
    "        \n",
    "    return frames,windowed_frames"
   ]
  },
  {
   "cell_type": "code",
   "execution_count": 21,
   "id": "9756b4d1",
   "metadata": {},
   "outputs": [
    {
     "name": "stdout",
     "output_type": "stream",
     "text": [
      "[  0   1   2   3   4   5   6   7   8   9  10  11  12  13  14  15  16  17\n",
      "  18  19  20  21  22  23  24  25  26  27  28  29  30  31  32  33  34  35\n",
      "  36  37  38  39  40  41  42  43  44  45  46  47  48  49  50  51  52  53\n",
      "  54  55  56  57  58  59  60  61  62  63  64  65  66  67  68  69  70  71\n",
      "  72  73  74  75  76  77  78  79  80  81  82  83  84  85  86  87  88  89\n",
      "  90  91  92  93  94  95  96  97  98  99 100 101 102 103 104 105 106 107\n",
      " 108 109 110 111 112 113 114 115 116 117 118 119 120 121 122 123 124 125\n",
      " 126 127]\n"
     ]
    }
   ],
   "source": [
    "x = np.arange(0, 128)\n",
    "print (x)\n",
    "frame_len, hop_len = 16, 1\n",
    "frames = librosa.util.frame(x, frame_length=frame_len, hop_length=hop_len)\n",
    "windowed_frames = np.hanning(frame_len).reshape(-1, 1) * frames\n",
    "\n",
    "# Print frames\n",
    "#for i, frame in enumerate(frames):\n",
    "#    print(\"Frame {}: {}\".format(i, frame))\n",
    "#    print(\"Length of frame :{}\".format(len(frame)))\n",
    "\n",
    "# Print windowed frames\n",
    "#for i, frame in enumerate(windowed_frames):\n",
    "#    print(\"Win Frame {}: {}\".format(i, np.round(frame, 3)))\n",
    "\n",
    "#print(frames[1])\n",
    "#print(len(frames[1]))\n",
    "#print(windowed_frames[2])\n",
    "#print(len(windowed_frames[2]))\n",
    "    \n"
   ]
  },
  {
   "cell_type": "code",
   "execution_count": 25,
   "id": "88d8cf5f",
   "metadata": {},
   "outputs": [
    {
     "name": "stdout",
     "output_type": "stream",
     "text": [
      "(88200,)\n",
      "[0.01117232 0.01807125 0.01534632 ... 0.06179424 0.05947506 0.0354091 ]\n",
      "16\n",
      "[0. 0. 0. ... 0. 0. 0.]\n",
      "16\n"
     ]
    }
   ],
   "source": [
    "filename = 'UrbanSound8K/acord.wav'\n",
    "data, sample_rate = audio_data(filename)\n",
    "print(data.shape)\n",
    "## What should appropriate frame lengths be?\n",
    "## Frame len here should be the length of the INPUT FILE\n",
    "## Hop distance is engineering\n",
    "\n",
    "frame_len, hop_len = 16, 1\n",
    "frm, wd = window_split(frame_len, hop_len,data)\n",
    "print(frm[0])\n",
    "print(len(frm))\n",
    "print(wd[0])\n",
    "print(len(wd))"
   ]
  },
  {
   "cell_type": "code",
   "execution_count": 32,
   "id": "cc9a2735",
   "metadata": {},
   "outputs": [],
   "source": [
    "def mfcc_form(data,sample_rate,n_mfcc,metadata_path):\n",
    "    mfccs = librosa.feature.mfcc(y = data, sr=sample_rate,  n_mfcc=40)\n",
    "    metadata=pd.read_csv(metadata_path)\n",
    "    metadata.head()\n",
    "    return metadata"
   ]
  },
  {
   "cell_type": "code",
   "execution_count": 33,
   "id": "934f6e51",
   "metadata": {},
   "outputs": [
    {
     "data": {
      "text/html": [
       "<div>\n",
       "<style scoped>\n",
       "    .dataframe tbody tr th:only-of-type {\n",
       "        vertical-align: middle;\n",
       "    }\n",
       "\n",
       "    .dataframe tbody tr th {\n",
       "        vertical-align: top;\n",
       "    }\n",
       "\n",
       "    .dataframe thead th {\n",
       "        text-align: right;\n",
       "    }\n",
       "</style>\n",
       "<table border=\"1\" class=\"dataframe\">\n",
       "  <thead>\n",
       "    <tr style=\"text-align: right;\">\n",
       "      <th></th>\n",
       "      <th>slice_file_name</th>\n",
       "      <th>fsID</th>\n",
       "      <th>start</th>\n",
       "      <th>end</th>\n",
       "      <th>salience</th>\n",
       "      <th>fold</th>\n",
       "      <th>classID</th>\n",
       "      <th>class</th>\n",
       "    </tr>\n",
       "  </thead>\n",
       "  <tbody>\n",
       "    <tr>\n",
       "      <th>0</th>\n",
       "      <td>100032-3-0-0.wav</td>\n",
       "      <td>100032</td>\n",
       "      <td>0.000000</td>\n",
       "      <td>0.317551</td>\n",
       "      <td>1</td>\n",
       "      <td>5</td>\n",
       "      <td>3</td>\n",
       "      <td>dog_bark</td>\n",
       "    </tr>\n",
       "    <tr>\n",
       "      <th>1</th>\n",
       "      <td>100263-2-0-117.wav</td>\n",
       "      <td>100263</td>\n",
       "      <td>58.500000</td>\n",
       "      <td>62.500000</td>\n",
       "      <td>1</td>\n",
       "      <td>5</td>\n",
       "      <td>2</td>\n",
       "      <td>children_playing</td>\n",
       "    </tr>\n",
       "    <tr>\n",
       "      <th>2</th>\n",
       "      <td>100263-2-0-121.wav</td>\n",
       "      <td>100263</td>\n",
       "      <td>60.500000</td>\n",
       "      <td>64.500000</td>\n",
       "      <td>1</td>\n",
       "      <td>5</td>\n",
       "      <td>2</td>\n",
       "      <td>children_playing</td>\n",
       "    </tr>\n",
       "    <tr>\n",
       "      <th>3</th>\n",
       "      <td>100263-2-0-126.wav</td>\n",
       "      <td>100263</td>\n",
       "      <td>63.000000</td>\n",
       "      <td>67.000000</td>\n",
       "      <td>1</td>\n",
       "      <td>5</td>\n",
       "      <td>2</td>\n",
       "      <td>children_playing</td>\n",
       "    </tr>\n",
       "    <tr>\n",
       "      <th>4</th>\n",
       "      <td>100263-2-0-137.wav</td>\n",
       "      <td>100263</td>\n",
       "      <td>68.500000</td>\n",
       "      <td>72.500000</td>\n",
       "      <td>1</td>\n",
       "      <td>5</td>\n",
       "      <td>2</td>\n",
       "      <td>children_playing</td>\n",
       "    </tr>\n",
       "    <tr>\n",
       "      <th>...</th>\n",
       "      <td>...</td>\n",
       "      <td>...</td>\n",
       "      <td>...</td>\n",
       "      <td>...</td>\n",
       "      <td>...</td>\n",
       "      <td>...</td>\n",
       "      <td>...</td>\n",
       "      <td>...</td>\n",
       "    </tr>\n",
       "    <tr>\n",
       "      <th>8727</th>\n",
       "      <td>99812-1-2-0.wav</td>\n",
       "      <td>99812</td>\n",
       "      <td>159.522205</td>\n",
       "      <td>163.522205</td>\n",
       "      <td>2</td>\n",
       "      <td>7</td>\n",
       "      <td>1</td>\n",
       "      <td>car_horn</td>\n",
       "    </tr>\n",
       "    <tr>\n",
       "      <th>8728</th>\n",
       "      <td>99812-1-3-0.wav</td>\n",
       "      <td>99812</td>\n",
       "      <td>181.142431</td>\n",
       "      <td>183.284976</td>\n",
       "      <td>2</td>\n",
       "      <td>7</td>\n",
       "      <td>1</td>\n",
       "      <td>car_horn</td>\n",
       "    </tr>\n",
       "    <tr>\n",
       "      <th>8729</th>\n",
       "      <td>99812-1-4-0.wav</td>\n",
       "      <td>99812</td>\n",
       "      <td>242.691902</td>\n",
       "      <td>246.197885</td>\n",
       "      <td>2</td>\n",
       "      <td>7</td>\n",
       "      <td>1</td>\n",
       "      <td>car_horn</td>\n",
       "    </tr>\n",
       "    <tr>\n",
       "      <th>8730</th>\n",
       "      <td>99812-1-5-0.wav</td>\n",
       "      <td>99812</td>\n",
       "      <td>253.209850</td>\n",
       "      <td>255.741948</td>\n",
       "      <td>2</td>\n",
       "      <td>7</td>\n",
       "      <td>1</td>\n",
       "      <td>car_horn</td>\n",
       "    </tr>\n",
       "    <tr>\n",
       "      <th>8731</th>\n",
       "      <td>99812-1-6-0.wav</td>\n",
       "      <td>99812</td>\n",
       "      <td>332.289233</td>\n",
       "      <td>334.821332</td>\n",
       "      <td>2</td>\n",
       "      <td>7</td>\n",
       "      <td>1</td>\n",
       "      <td>car_horn</td>\n",
       "    </tr>\n",
       "  </tbody>\n",
       "</table>\n",
       "<p>8732 rows × 8 columns</p>\n",
       "</div>"
      ],
      "text/plain": [
       "         slice_file_name    fsID       start         end  salience  fold  \\\n",
       "0       100032-3-0-0.wav  100032    0.000000    0.317551         1     5   \n",
       "1     100263-2-0-117.wav  100263   58.500000   62.500000         1     5   \n",
       "2     100263-2-0-121.wav  100263   60.500000   64.500000         1     5   \n",
       "3     100263-2-0-126.wav  100263   63.000000   67.000000         1     5   \n",
       "4     100263-2-0-137.wav  100263   68.500000   72.500000         1     5   \n",
       "...                  ...     ...         ...         ...       ...   ...   \n",
       "8727     99812-1-2-0.wav   99812  159.522205  163.522205         2     7   \n",
       "8728     99812-1-3-0.wav   99812  181.142431  183.284976         2     7   \n",
       "8729     99812-1-4-0.wav   99812  242.691902  246.197885         2     7   \n",
       "8730     99812-1-5-0.wav   99812  253.209850  255.741948         2     7   \n",
       "8731     99812-1-6-0.wav   99812  332.289233  334.821332         2     7   \n",
       "\n",
       "      classID             class  \n",
       "0           3          dog_bark  \n",
       "1           2  children_playing  \n",
       "2           2  children_playing  \n",
       "3           2  children_playing  \n",
       "4           2  children_playing  \n",
       "...       ...               ...  \n",
       "8727        1          car_horn  \n",
       "8728        1          car_horn  \n",
       "8729        1          car_horn  \n",
       "8730        1          car_horn  \n",
       "8731        1          car_horn  \n",
       "\n",
       "[8732 rows x 8 columns]"
      ]
     },
     "execution_count": 33,
     "metadata": {},
     "output_type": "execute_result"
    }
   ],
   "source": [
    "n_mfcc = 40\n",
    "metadata_path = 'UrbanSound8K/metadata/UrbanSound8K.csv'\n",
    "mfcc_form(data,sample_rate,n_mfcc,metadata_path)"
   ]
  },
  {
   "cell_type": "code",
   "execution_count": 34,
   "id": "61654fb2",
   "metadata": {},
   "outputs": [],
   "source": [
    "def features_extractor(file):\n",
    "    audio, sample_rate = librosa.load(file, res_type='kaiser_fast') \n",
    "    mfccs_features = librosa.feature.mfcc(y=audio, sr=sample_rate, n_mfcc=40)\n",
    "    mfccs_scaled_features = np.mean(mfccs_features.T,axis=0)\n",
    "    return mfccs_scaled_features"
   ]
  },
  {
   "cell_type": "code",
   "execution_count": 35,
   "id": "e160a822",
   "metadata": {},
   "outputs": [],
   "source": [
    "def itterate_over_all_files_windowed(audio_dataset_path,frame_len, hop_len,data,metadata):\n",
    "    extracted_features=[]\n",
    "    extracted_windows =[]\n",
    "    aduio_sample_index = 0\n",
    "    for index_num,row in tqdm(metadata.iterrows()):\n",
    "        file_name = os.path.join(os.path.abspath(audio_dataset_path),'fold'+str(row[\"fold\"])+'/',str(row[\"slice_file_name\"]))\n",
    "        final_class_labels=row[\"class\"] ## Get the label with mfcc\n",
    "        data_mfcc=features_extractor(file_name)\n",
    "        frames,windowed_frames = window_split(frame_len, hop_len,data_mfcc)\n",
    "        extracted_features.append([data_mfcc,final_class_labels]) ##Store in a long list\n",
    "        for frame in frames:\n",
    "            extracted_windows.append([frame,final_class_labels,aduio_sample_index]) ##Store in a long list\n",
    "        aduio_sample_index+=1\n",
    "    return extracted_features, extracted_windows\n"
   ]
  },
  {
   "cell_type": "code",
   "execution_count": 36,
   "id": "236b5491",
   "metadata": {},
   "outputs": [
    {
     "name": "stderr",
     "output_type": "stream",
     "text": [
      "3553it [02:27, 23.81it/s]/home/szy/.local/lib/python3.6/site-packages/librosa/util/decorators.py:88: UserWarning: n_fft=2048 is too small for input signal of length=1323\n",
      "  return f(*args, **kwargs)\n",
      "8323it [05:37, 34.16it/s]/home/szy/.local/lib/python3.6/site-packages/librosa/util/decorators.py:88: UserWarning: n_fft=2048 is too small for input signal of length=1103\n",
      "  return f(*args, **kwargs)\n",
      "/home/szy/.local/lib/python3.6/site-packages/librosa/util/decorators.py:88: UserWarning: n_fft=2048 is too small for input signal of length=1523\n",
      "  return f(*args, **kwargs)\n",
      "8732it [05:53, 24.70it/s]\n"
     ]
    }
   ],
   "source": [
    "filename = 'UrbanSound8K/acord.wav'\n",
    "audio_dataset_path = 'UrbanSound8K/audio/'\n",
    "metadata_path = 'UrbanSound8K/metadata/UrbanSound8K.csv'\n",
    "metadata = pd.read_csv(metadata_path)\n",
    "\n",
    "data, sample_rate = audio_data(filename)\n",
    "frame_len = 16 #This will be length of input\n",
    "hop_len = 1 #To make a single value sliding window\n",
    "extracted_features, extracted_windows = itterate_over_all_files_windowed(audio_dataset_path,frame_len,hop_len,data,metadata)"
   ]
  },
  {
   "cell_type": "code",
   "execution_count": 37,
   "id": "5d34e4ef",
   "metadata": {},
   "outputs": [
    {
     "data": {
      "text/html": [
       "<div>\n",
       "<style scoped>\n",
       "    .dataframe tbody tr th:only-of-type {\n",
       "        vertical-align: middle;\n",
       "    }\n",
       "\n",
       "    .dataframe tbody tr th {\n",
       "        vertical-align: top;\n",
       "    }\n",
       "\n",
       "    .dataframe thead th {\n",
       "        text-align: right;\n",
       "    }\n",
       "</style>\n",
       "<table border=\"1\" class=\"dataframe\">\n",
       "  <thead>\n",
       "    <tr style=\"text-align: right;\">\n",
       "      <th></th>\n",
       "      <th>feature</th>\n",
       "      <th>class</th>\n",
       "    </tr>\n",
       "  </thead>\n",
       "  <tbody>\n",
       "    <tr>\n",
       "      <th>0</th>\n",
       "      <td>[-218.18938, 71.38549, -131.49442, -52.25892, ...</td>\n",
       "      <td>dog_bark</td>\n",
       "    </tr>\n",
       "    <tr>\n",
       "      <th>1</th>\n",
       "      <td>[-425.05234, 110.67095, -54.192833, 62.045414,...</td>\n",
       "      <td>children_playing</td>\n",
       "    </tr>\n",
       "    <tr>\n",
       "      <th>2</th>\n",
       "      <td>[-459.82623, 122.82864, -47.908062, 53.302677,...</td>\n",
       "      <td>children_playing</td>\n",
       "    </tr>\n",
       "    <tr>\n",
       "      <th>3</th>\n",
       "      <td>[-414.82184, 102.94826, -36.65685, 54.170742, ...</td>\n",
       "      <td>children_playing</td>\n",
       "    </tr>\n",
       "    <tr>\n",
       "      <th>4</th>\n",
       "      <td>[-447.60776, 115.08627, -53.74607, 61.55309, 1...</td>\n",
       "      <td>children_playing</td>\n",
       "    </tr>\n",
       "  </tbody>\n",
       "</table>\n",
       "</div>"
      ],
      "text/plain": [
       "                                             feature             class\n",
       "0  [-218.18938, 71.38549, -131.49442, -52.25892, ...          dog_bark\n",
       "1  [-425.05234, 110.67095, -54.192833, 62.045414,...  children_playing\n",
       "2  [-459.82623, 122.82864, -47.908062, 53.302677,...  children_playing\n",
       "3  [-414.82184, 102.94826, -36.65685, 54.170742, ...  children_playing\n",
       "4  [-447.60776, 115.08627, -53.74607, 61.55309, 1...  children_playing"
      ]
     },
     "execution_count": 37,
     "metadata": {},
     "output_type": "execute_result"
    }
   ],
   "source": [
    "extracted_features_df=pd.DataFrame(extracted_features,columns=['feature','class'])\n",
    "extracted_features_df.head()"
   ]
  },
  {
   "cell_type": "code",
   "execution_count": 38,
   "id": "a78fd14f",
   "metadata": {},
   "outputs": [
    {
     "data": {
      "text/html": [
       "<div>\n",
       "<style scoped>\n",
       "    .dataframe tbody tr th:only-of-type {\n",
       "        vertical-align: middle;\n",
       "    }\n",
       "\n",
       "    .dataframe tbody tr th {\n",
       "        vertical-align: top;\n",
       "    }\n",
       "\n",
       "    .dataframe thead th {\n",
       "        text-align: right;\n",
       "    }\n",
       "</style>\n",
       "<table border=\"1\" class=\"dataframe\">\n",
       "  <thead>\n",
       "    <tr style=\"text-align: right;\">\n",
       "      <th></th>\n",
       "      <th>feature</th>\n",
       "      <th>class</th>\n",
       "      <th>Sample</th>\n",
       "    </tr>\n",
       "  </thead>\n",
       "  <tbody>\n",
       "    <tr>\n",
       "      <th>0</th>\n",
       "      <td>[-218.18938, 71.38549, -131.49442, -52.25892, ...</td>\n",
       "      <td>dog_bark</td>\n",
       "      <td>NaN</td>\n",
       "    </tr>\n",
       "    <tr>\n",
       "      <th>1</th>\n",
       "      <td>[-425.05234, 110.67095, -54.192833, 62.045414,...</td>\n",
       "      <td>children_playing</td>\n",
       "      <td>NaN</td>\n",
       "    </tr>\n",
       "    <tr>\n",
       "      <th>2</th>\n",
       "      <td>[-459.82623, 122.82864, -47.908062, 53.302677,...</td>\n",
       "      <td>children_playing</td>\n",
       "      <td>NaN</td>\n",
       "    </tr>\n",
       "    <tr>\n",
       "      <th>3</th>\n",
       "      <td>[-414.82184, 102.94826, -36.65685, 54.170742, ...</td>\n",
       "      <td>children_playing</td>\n",
       "      <td>NaN</td>\n",
       "    </tr>\n",
       "    <tr>\n",
       "      <th>4</th>\n",
       "      <td>[-447.60776, 115.08627, -53.74607, 61.55309, 1...</td>\n",
       "      <td>children_playing</td>\n",
       "      <td>NaN</td>\n",
       "    </tr>\n",
       "  </tbody>\n",
       "</table>\n",
       "</div>"
      ],
      "text/plain": [
       "                                             feature             class  Sample\n",
       "0  [-218.18938, 71.38549, -131.49442, -52.25892, ...          dog_bark     NaN\n",
       "1  [-425.05234, 110.67095, -54.192833, 62.045414,...  children_playing     NaN\n",
       "2  [-459.82623, 122.82864, -47.908062, 53.302677,...  children_playing     NaN\n",
       "3  [-414.82184, 102.94826, -36.65685, 54.170742, ...  children_playing     NaN\n",
       "4  [-447.60776, 115.08627, -53.74607, 61.55309, 1...  children_playing     NaN"
      ]
     },
     "execution_count": 38,
     "metadata": {},
     "output_type": "execute_result"
    }
   ],
   "source": [
    "extracted_windows_df=pd.DataFrame(extracted_windows_df,columns=['feature','class','Sample'])\n",
    "extracted_windows_df.head()"
   ]
  },
  {
   "cell_type": "code",
   "execution_count": 23,
   "id": "01c94565",
   "metadata": {},
   "outputs": [
    {
     "name": "stdout",
     "output_type": "stream",
     "text": [
      "[array([-2.1818938e+02,  7.1385490e+01, -1.3149442e+02, -5.2258919e+01,\n",
      "       -2.2106579e+01, -2.1909658e+01, -1.1460048e+01,  1.8722717e+01,\n",
      "        6.4100847e+00,  1.4377756e+01, -1.2035481e+01,  1.9690273e+00,\n",
      "       -1.7309101e+01,  9.7747097e+00, -5.8458338e+00, -1.5289919e+00,\n",
      "       -1.7429775e+01,  1.0425417e+00, -4.1709461e+00,  7.3335233e+00,\n",
      "       -1.1701521e+01, -7.4281230e+00,  5.4550538e+00, -2.9434776e+00,\n",
      "       -5.9815216e+00, -2.3365991e-01, -3.4048657e+00,  4.3616667e+00,\n",
      "       -6.0568337e+00, -5.6260591e+00,  1.0876640e+00,  6.8657203e+00,\n",
      "       -2.0219426e-01,  1.6815265e+00, -5.6556258e+00, -2.8866239e+00,\n",
      "        3.0454190e+00, -1.5696381e+00, -7.5472158e-01,  5.3398448e-01],\n",
      "      dtype=float32), 'dog_bark']\n",
      "[array([-218.18938  ,   71.38549  , -131.49442  ,  -52.25892  ,\n",
      "        -22.106579 ,  -21.909658 ,  -11.460048 ,   18.722717 ,\n",
      "          6.4100847,   14.377756 ,  -12.035481 ,    1.9690273,\n",
      "        -17.309101 ,    9.77471  ,   -5.845834 ,   -1.5289919,\n",
      "        -17.429775 ,    1.0425417,   -4.170946 ,    7.3335233,\n",
      "        -11.701521 ,   -7.428123 ,    5.455054 ,   -2.9434776,\n",
      "         -5.9815216], dtype=float32), 'dog_bark', 0]\n",
      "[array([ 1.0106542 , 27.718199  ,  0.04244052, 12.498815  , -1.9831969 ,\n",
      "       11.291078  , -8.62747   , 19.014599  , -3.6144872 , 12.013278  ,\n",
      "       -3.6612546 ,  5.69494   , -6.4326525 ,  5.2004824 , -5.470747  ,\n",
      "        6.619602  , -3.3105242 ,  8.395852  , -1.152649  ,  5.595522  ,\n",
      "       -1.0661151 ,  0.74430996, -2.0078235 ,  1.1295553 , -1.0257163 ],\n",
      "      dtype=float32), 'children_playing', 6]\n"
     ]
    }
   ],
   "source": [
    "print(extracted_features[0])\n",
    "print(extracted_windows[0])\n",
    "print(extracted_windows[100])"
   ]
  },
  {
   "cell_type": "code",
   "execution_count": 49,
   "id": "0f74f0eb",
   "metadata": {},
   "outputs": [],
   "source": [
    "###############Lets try an input with doing it all together#####\n",
    "input_audio = 'UrbanSound8K/siren_1.wav'\n",
    "input_audio_2 = 'UrbanSound8K/acord_2.wav'\n",
    "compared_to = 'UrbanSound8K/acord.wav'"
   ]
  },
  {
   "cell_type": "code",
   "execution_count": 50,
   "id": "45152042",
   "metadata": {},
   "outputs": [
    {
     "name": "stdout",
     "output_type": "stream",
     "text": [
      "40\n",
      "40\n"
     ]
    }
   ],
   "source": [
    "input_mfcc = features_extractor(input_audio)\n",
    "input_mfcc_2 = features_extractor(input_audio_2)\n",
    "compared_mfcc = features_extractor(compared_to)\n",
    "print(len(input_mfcc))\n",
    "print(len(compared_mfcc))"
   ]
  },
  {
   "cell_type": "code",
   "execution_count": 93,
   "id": "0a17c96c",
   "metadata": {},
   "outputs": [],
   "source": [
    "threshold = 65 "
   ]
  },
  {
   "cell_type": "code",
   "execution_count": 44,
   "id": "6d4a265c",
   "metadata": {},
   "outputs": [
    {
     "name": "stdout",
     "output_type": "stream",
     "text": [
      "122.190216\n"
     ]
    }
   ],
   "source": [
    "print(np.linalg.norm(input_mfcc-compared_mfcc))"
   ]
  },
  {
   "cell_type": "code",
   "execution_count": 51,
   "id": "0ce12a57",
   "metadata": {},
   "outputs": [
    {
     "name": "stdout",
     "output_type": "stream",
     "text": [
      "28.393139\n"
     ]
    }
   ],
   "source": [
    "print(np.linalg.norm(input_mfcc_2-compared_mfcc))"
   ]
  },
  {
   "cell_type": "code",
   "execution_count": 106,
   "id": "e80d3f4c",
   "metadata": {},
   "outputs": [],
   "source": [
    "def get_threshhold_from_mean(extracted_features,label,input_mfcc,cos = False):\n",
    "    thresh_list = list()\n",
    "    for i in range(len(extracted_features)):\n",
    "        if cos:\n",
    "            if extracted_features[i][1] == label:\n",
    "                cos_sim = spatial.distance.cosine(extracted_features[i][0],input_mfcc)\n",
    "                thresh_list.append(cos_sim)\n",
    "        else:\n",
    "            if extracted_features[i][1] == label:\n",
    "                MSD = spatial.distance.euclidean(extracted_features[i][0],input_mfcc)\n",
    "                thresh_list.append(MSD)\n",
    "    return np.mean(thresh_list)\n",
    "                \n",
    "        "
   ]
  },
  {
   "cell_type": "code",
   "execution_count": 113,
   "id": "9f96ef2a",
   "metadata": {
    "scrolled": false
   },
   "outputs": [],
   "source": [
    "#find all sirens\n",
    "threshold = get_threshhold_from_mean(extracted_features, 'siren', input_mfcc, True)\n",
    "predictions = list()\n",
    "for i in range(len(extracted_features)):\n",
    "    MSD = spatial.distance.cosine(extracted_features[i][0],input_mfcc)\n",
    "    if (MSD <= threshold):\n",
    "        predictions.append([extracted_features[i][1],i])"
   ]
  },
  {
   "cell_type": "code",
   "execution_count": 121,
   "id": "8e344ab8",
   "metadata": {},
   "outputs": [
    {
     "name": "stdout",
     "output_type": "stream",
     "text": [
      "['street_music', 94]\n"
     ]
    }
   ],
   "source": [
    "print(predictions[0])"
   ]
  },
  {
   "cell_type": "code",
   "execution_count": 120,
   "id": "1bedf0e1",
   "metadata": {},
   "outputs": [
    {
     "name": "stdout",
     "output_type": "stream",
     "text": [
      "3337\n"
     ]
    },
    {
     "data": {
      "text/plain": [
       "[array([-2.1818938e+02,  7.1385490e+01, -1.3149442e+02, -5.2258919e+01,\n",
       "        -2.2106579e+01, -2.1909658e+01, -1.1460048e+01,  1.8722717e+01,\n",
       "         6.4100847e+00,  1.4377756e+01, -1.2035481e+01,  1.9690273e+00,\n",
       "        -1.7309101e+01,  9.7747097e+00, -5.8458338e+00, -1.5289919e+00,\n",
       "        -1.7429775e+01,  1.0425417e+00, -4.1709461e+00,  7.3335233e+00,\n",
       "        -1.1701521e+01, -7.4281230e+00,  5.4550538e+00, -2.9434776e+00,\n",
       "        -5.9815216e+00, -2.3365991e-01, -3.4048657e+00,  4.3616667e+00,\n",
       "        -6.0568337e+00, -5.6260591e+00,  1.0876640e+00,  6.8657203e+00,\n",
       "        -2.0219426e-01,  1.6815265e+00, -5.6556258e+00, -2.8866239e+00,\n",
       "         3.0454190e+00, -1.5696381e+00, -7.5472158e-01,  5.3398448e-01],\n",
       "       dtype=float32),\n",
       " 'dog_bark']"
      ]
     },
     "execution_count": 120,
     "metadata": {},
     "output_type": "execute_result"
    }
   ],
   "source": [
    "print(len(predictions))\n",
    "extracted_features[0]"
   ]
  },
  {
   "cell_type": "code",
   "execution_count": 130,
   "id": "9a23a3e0",
   "metadata": {},
   "outputs": [],
   "source": [
    "def get_FN_and_TN(predictions,extracted_features,label):\n",
    "    FN = 0\n",
    "    TN = 0 \n",
    "    indexes = list()\n",
    "    for i in range(len(predictions)):\n",
    "        indexes.append(predictions[i][1])\n",
    "    \n",
    "    for i in range(len(extracted_features)):\n",
    "        if extracted_features[i][1] == label and i not in indexes:\n",
    "            FN +=1\n",
    "        elif extracted_features[i][1] != label and i not in indexes:\n",
    "            TN +=1\n",
    "        \n",
    "    return FN,TN"
   ]
  },
  {
   "cell_type": "code",
   "execution_count": 136,
   "id": "214c7fd2",
   "metadata": {},
   "outputs": [],
   "source": [
    "def get_accuracy(predictions,extracted_features, label):\n",
    "    TP = 0\n",
    "    FP = 0\n",
    "    FN,TN = get_FN_and_TN(extracted_features,predictions,label)\n",
    "    not_predicted = len(extracted_features) - len(predictions)\n",
    "    for i in predictions:\n",
    "        if i[0] == label:\n",
    "            TP +=1\n",
    "        elif i[0] != label:\n",
    "            FP +=1\n",
    "    accuracy = (TN+TP)/(TP+FP+TN+FN)\n",
    "    return accuracy*100"
   ]
  },
  {
   "cell_type": "code",
   "execution_count": 137,
   "id": "129499bc",
   "metadata": {},
   "outputs": [
    {
     "name": "stdout",
     "output_type": "stream",
     "text": [
      "57.76146239136949\n"
     ]
    }
   ],
   "source": [
    "accuracy = get_accuracy(predictions,extracted_features,'siren')\n",
    "print(accuracy)"
   ]
  },
  {
   "cell_type": "code",
   "execution_count": null,
   "id": "fe3d3297",
   "metadata": {},
   "outputs": [],
   "source": []
  }
 ],
 "metadata": {
  "kernelspec": {
   "display_name": "Python 3 (ipykernel)",
   "language": "python",
   "name": "python3"
  },
  "language_info": {
   "codemirror_mode": {
    "name": "ipython",
    "version": 3
   },
   "file_extension": ".py",
   "mimetype": "text/x-python",
   "name": "python",
   "nbconvert_exporter": "python",
   "pygments_lexer": "ipython3",
   "version": "3.9.7"
  }
 },
 "nbformat": 4,
 "nbformat_minor": 5
}
