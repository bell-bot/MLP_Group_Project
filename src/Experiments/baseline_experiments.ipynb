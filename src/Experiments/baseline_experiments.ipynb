{
 "cells": [
  {
   "cell_type": "code",
   "execution_count": null,
   "id": "848e39c0",
   "metadata": {},
   "outputs": [],
   "source": [
    "import pandas as pd\n",
    "import librosa\n",
    "import os\n",
    "import numpy as np\n",
    "import torch\n",
    "from torch.nn import L1Loss, MSELoss\n",
    "from enum import Enum\n",
    "\n",
    "from src.utils import get_git_root\n",
    "from src.datasets import CTRLF_DatasetWrapper"
   ]
  },
  {
   "cell_type": "markdown",
   "id": "c4887005",
   "metadata": {},
   "source": [
    "# Util"
   ]
  },
  {
   "cell_type": "code",
   "execution_count": null,
   "id": "730dc5ec",
   "metadata": {},
   "outputs": [],
   "source": [
    "def features_extractor(audio): \n",
    "    mfccs_features = librosa.feature.mfcc(y=audio, n_mfcc=40)\n",
    "    mfccs_scaled_features = np.mean(mfccs_features.T,axis=0)\n",
    "    \n",
    "    return mfccs_scaled_features"
   ]
  },
  {
   "cell_type": "code",
   "execution_count": null,
   "id": "e48924b5",
   "metadata": {},
   "outputs": [],
   "source": [
    "def features_extractor_windowed(frames):\n",
    "    return np.apply_along_axis(features_extractor, 1, frames)"
   ]
  },
  {
   "cell_type": "code",
   "execution_count": null,
   "id": "b7403d8a",
   "metadata": {},
   "outputs": [],
   "source": [
    "def window_split(frame_len, hop_len,data, print_frame = False):\n",
    "    frames = librosa.util.frame(data, frame_length=frame_len, hop_length=hop_len)\n",
    "    windowed_frames = np.hanning(frame_len).reshape(-1, 1) * frames\n",
    "    sum_len=0\n",
    "    if print_frame:\n",
    "        # Print frames\n",
    "        for i, frame in enumerate(frames):\n",
    "            print(\"Frame {}: {}\".format(i, frame))\n",
    "            print(\"Length of frame :{}\".format(len(frame)))\n",
    "            sum_len+=len(frame)\n",
    "        print(\"All frames :{}\".format(sum_len))\n",
    "        print(\"More data than original size: {}\".format(len(frames) <= sum_len))\n",
    "        # Print windowed frames\n",
    "        for i, frame in enumerate(windowed_frames):\n",
    "            print(\"Win Frame {}: {}\".format(i, np.round(frame, 3)))\n",
    "        \n",
    "    return frames,windowed_frames"
   ]
  },
  {
   "cell_type": "code",
   "execution_count": null,
   "id": "2fa90f4f",
   "metadata": {},
   "outputs": [],
   "source": [
    "def mae_loss(x, y):\n",
    "    loss = L1Loss()\n",
    "    return torch.reshape(loss(x,y), shape=(1,1))\n",
    "\n",
    "def rmse_loss(x,y):\n",
    "    loss = MSELoss()\n",
    "    return torch.reshape(torch.sqrt(loss(x,y)), shape=(1,1))\n",
    "\n",
    "class LossType(Enum):\n",
    "    MAE = \"mae\"\n",
    "    RMSE = \"rmse\"\n",
    "\n",
    "\n",
    "def compare_window(keyword, window, loss_type=LossType.MAE):\n",
    "\n",
    "    if loss_type == LossType.MAE:\n",
    "        return mae_loss(keyword, window)\n",
    "\n",
    "    elif loss_type == LossType.RMSE:\n",
    "        return rmse_loss(keyword, window)\n",
    "\n",
    "def match_audio(keyword, sliding_windows, loss_type=LossType.MAE):\n",
    "    results = []\n",
    "    for i in range(len(sliding_windows)):\n",
    "        t = sliding_windows[i]\n",
    "        loss = compare_window(keyword, t, loss_type=loss_type)\n",
    "        results.append(loss)\n",
    "    return torch.cat(results, dim=0)"
   ]
  },
  {
   "cell_type": "code",
   "execution_count": null,
   "id": "1a903b56",
   "metadata": {},
   "outputs": [],
   "source": [
    "def match_timestamps(start, end, actual_start, actual_end):\n",
    "    start_valid = start - 0.1 < actual_start and start + 0.1 > actual_start\n",
    "    end_valid = end - 0.1 < actual_end and end + 0.1 > actual_end\n",
    "    return start_valid and end_valid"
   ]
  },
  {
   "cell_type": "markdown",
   "id": "58d78ff8",
   "metadata": {},
   "source": [
    "# Experiment"
   ]
  },
  {
   "cell_type": "code",
   "execution_count": null,
   "id": "109b978a",
   "metadata": {},
   "outputs": [],
   "source": [
    "# Initialise the CTRL-wrapper for datasets.py\n",
    "x = CTRLF_DatasetWrapper()"
   ]
  },
  {
   "cell_type": "code",
   "execution_count": null,
   "id": "16c11d70",
   "metadata": {},
   "outputs": [],
   "source": [
    "# For instance in the data set wrapper, try to predict the keyword\n",
    "# accuracy stores an array of 0 and 1, where 0 indicates that the model prediction was wrong, \n",
    "# and 1 indicates the the model prediction was correct\n",
    "accuracy = []\n",
    "\n",
    "# idx keeps track of the ted talk id\n",
    "idx = 0\n",
    "\n",
    "for idx in range(100):\n",
    "    try:\n",
    "        # Retrieve the sample at the current index\n",
    "        sample = x.get(idx)\n",
    "\n",
    "        # We require the ted audio waveform, keyword waveform, audio start and end time, and keyword start and \n",
    "        # end time\n",
    "        ted_waveform = sample[\"TED_waveform\"][0]\n",
    "        keyword = sample[\"MSWC_audio_waveform\"][0]\n",
    "        ted_start_time = sample[\"TED_start_time\"][0]\n",
    "        ted_end_time = sample[\"TED_end_time\"][0]\n",
    "        ted_length = ted_end_time-ted_start_time\n",
    "        ted_sample_rate = sample[\"TED_sample_rate\"][0]\n",
    "        keyword_sample_rate = sample[\"MSWC_sample_rate\"][0]\n",
    "        keyword_start_time = sample[\"keyword_start_time\"][0]\n",
    "        keyword_end_time = sample[\"keyword_end_time\"][0]\n",
    "\n",
    "\n",
    "        # Length of the window has to be the length of the keyword\n",
    "        window_len = len(keyword)\n",
    "\n",
    "        # Window the ted waveform\n",
    "        frames, windowed_frames = window_split(window_len, 1, ted_waveform)\n",
    "\n",
    "        # Convert the frames and keyword waveform to MFCC\n",
    "        ted_mfcc = features_extractor_windowed(windowed_frames[0].T)\n",
    "\n",
    "        # Convertthe keyword to mfcc\n",
    "        keyword_mfcc = features_extractor(keyword)\n",
    "        # For each window, compute the mse of the window and the keyword\n",
    "        windowed_mse = match_audio(torch.tensor(keyword_mfcc), torch.tensor(ted_mfcc))\n",
    "\n",
    "        # Indentify the window with the least mse\n",
    "        least_mse = np.argmin(windowed_mse.numpy())\n",
    "        coef_ted = ted_length/ted_waveform.shape[1]\n",
    "        coef_keyword = (keyword_end_time-keyword_start_time)\n",
    "\n",
    "        # Compute the start and end timestamp\n",
    "        start_timestamp = ted_start_time + least_mse*coef_ted\n",
    "        end_timestamp = start_timestamp + coef_keyword\n",
    "\n",
    "        accuracy.append(match_timestamps(start_timestamp, end_timestamp, keyword_start_time, keyword_end_time))\n",
    "        \n",
    "    except:\n",
    "        continue\n",
    "        "
   ]
  },
  {
   "cell_type": "code",
   "execution_count": null,
   "id": "0c23bb0f",
   "metadata": {},
   "outputs": [],
   "source": [
    "final_accuracy = np.sum(accuracy)/len(accuracy)"
   ]
  },
  {
   "cell_type": "code",
   "execution_count": null,
   "id": "5388859d",
   "metadata": {},
   "outputs": [],
   "source": []
  }
 ],
 "metadata": {
  "kernelspec": {
   "display_name": "Python 3 (ipykernel)",
   "language": "python",
   "name": "python3"
  },
  "language_info": {
   "codemirror_mode": {
    "name": "ipython",
    "version": 3
   },
   "file_extension": ".py",
   "mimetype": "text/x-python",
   "name": "python",
   "nbconvert_exporter": "python",
   "pygments_lexer": "ipython3",
   "version": "3.9.7"
  }
 },
 "nbformat": 4,
 "nbformat_minor": 5
}
