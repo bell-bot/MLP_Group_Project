{
 "cells": [
  {
   "cell_type": "code",
   "execution_count": 3,
   "id": "e21c2788",
   "metadata": {},
   "outputs": [],
   "source": [
    "from src.datasets import CTRLF_DatasetWrapper\n",
    "from moviepy.audio.AudioClip import AudioArrayClip\n",
    "from scipy.io import wavfile # to read and write audio files\n",
    "import os\n",
    "import IPython\n",
    "import pandas as pd\n",
    "import matplotlib.pyplot as plt\n",
    "%matplotlib inline\n",
    "plt.style.use('ggplot')\n",
    "from src.constants import DATASET_TEDLIUM_PATH, DATASET_MLCOMMONS_PATH\n",
    "from src.utils import get_git_root\n",
    "from tqdm import tqdm\n",
    "\n",
    "import tensorflow as tf"
   ]
  },
  {
   "cell_type": "markdown",
   "id": "b9559c1c",
   "metadata": {},
   "source": [
    "# Utils"
   ]
  },
  {
   "cell_type": "code",
   "execution_count": 2,
   "id": "b48ffc3e",
   "metadata": {},
   "outputs": [],
   "source": [
    "def window_split(frame_len, hop_len,data, print_frame = False):\n",
    "    frames = librosa.util.frame(data, frame_length=frame_len, hop_length=hop_len)\n",
    "    windowed_frames = np.hanning(frame_len).reshape(-1, 1) * frames\n",
    "    sum_len=0\n",
    "    if print_frame:\n",
    "        # Print frames\n",
    "        for i, frame in enumerate(frames):\n",
    "            print(\"Frame {}: {}\".format(i, frame))\n",
    "            print(\"Length of frame :{}\".format(len(frame)))\n",
    "            sum_len+=len(frame)\n",
    "        print(\"All frames :{}\".format(sum_len))\n",
    "        print(\"More data than original size: {}\".format(len(frames) <= sum_len))\n",
    "        # Print windowed frames\n",
    "        for i, frame in enumerate(windowed_frames):\n",
    "            print(\"Win Frame {}: {}\".format(i, np.round(frame, 3)))\n",
    "        \n",
    "    return frames,windowed_frames"
   ]
  },
  {
   "cell_type": "code",
   "execution_count": 3,
   "id": "faa90c53",
   "metadata": {},
   "outputs": [],
   "source": [
    "def convert_timestamp(new_sr, old_sr, timestamp):\n",
    "    return (new_sr*timestamp)/old_sr\n",
    "\n",
    "def correct_timestamp(start, end, keyword_start, keyword_end):\n",
    "    start_before = keyword_start <= start and keyword_end > end \n",
    "    end_after = keyword_start < start and keyword_end > end and keyword_end < end\n",
    "\n",
    "    return start_before or end_after"
   ]
  },
  {
   "cell_type": "code",
   "execution_count": 12,
   "id": "20a9c13e",
   "metadata": {},
   "outputs": [
    {
     "name": "stdout",
     "output_type": "stream",
     "text": [
      "ERROR! Session/line number was not unique in database. History logging moved to new session 188\n"
     ]
    }
   ],
   "source": [
    "# A utility function to decode the output of the network\n",
    "def decode_batch_predictions(pred):\n",
    "    input_len = np.ones(pred.shape[0]) * pred.shape[1]\n",
    "    # Use greedy search. For complex tasks, you can use beam search\n",
    "    results = keras.backend.ctc_decode(pred, input_length=input_len, greedy=True)[0][0]\n",
    "    # Iterate over the results and get back the text\n",
    "    output_text = []\n",
    "    for result in results:\n",
    "        result = tf.strings.reduce_join(num_to_char(result)).numpy().decode(\"utf-8\")\n",
    "        output_text.append(result)\n",
    "    return output_text\n"
   ]
  },
  {
   "cell_type": "markdown",
   "id": "4ca6a733",
   "metadata": {},
   "source": [
    "## Model HyperParameters:"
   ]
  },
  {
   "cell_type": "code",
   "execution_count": 4,
   "id": "08d3004e",
   "metadata": {},
   "outputs": [],
   "source": [
    "REMOVE_UNK = True\n",
    "PREPROCESS = True\n",
    "# An integer scalar Tensor. The window length in samples.\n",
    "frame_length = 256\n",
    "# An integer scalar Tensor. The number of samples to step.\n",
    "frame_step = 160\n",
    "# An integer scalar Tensor. The size of the FFT to apply.\n",
    "# If not provided, uses the smallest power of 2 enclosing frame_length.\n",
    "fft_length = 384\n",
    "NUM_OF_SAMPLES = 3000 #<---- DATASET SIZE\n",
    "BATCH_SIZE = 16\n",
    "RNN_UNITS= 128 #original: 512\n",
    "RNN_LAYERS = 2 #original : 5\n",
    "LR_ADAM = 1e-4\n",
    "\n",
    "EPOCHS =65 #out of 100"
   ]
  },
  {
   "cell_type": "code",
   "execution_count": 4,
   "id": "dc0454e1",
   "metadata": {},
   "outputs": [],
   "source": [
    "#Model path\n",
    "model_folder_path = os.path.join(get_git_root(os.getcwd()), \"src\", \"models\", \"old_model\", 'ckpt_3000_samples_v1', 'ckpt-57')\n"
   ]
  },
  {
   "cell_type": "markdown",
   "id": "5da88274",
   "metadata": {},
   "source": [
    "# Model Inference"
   ]
  },
  {
   "cell_type": "code",
   "execution_count": 5,
   "id": "f0c7722b",
   "metadata": {
    "scrolled": false
   },
   "outputs": [
    {
     "name": "stderr",
     "output_type": "stream",
     "text": [
      "2022-03-31 17:52:04.535467: I tensorflow/core/platform/cpu_feature_guard.cc:151] This TensorFlow binary is optimized with oneAPI Deep Neural Network Library (oneDNN) to use the following CPU instructions in performance-critical operations:  AVX2 FMA\n",
      "To enable them in other operations, rebuild TensorFlow with the appropriate compiler flags.\n"
     ]
    },
    {
     "name": "stdout",
     "output_type": "stream",
     "text": [
      "Model: \"DeepSpeech_2\"\n",
      "_________________________________________________________________\n",
      " Layer (type)                Output Shape              Param #   \n",
      "=================================================================\n",
      " input (InputLayer)          [(None, None, 193)]       0         \n",
      "                                                                 \n",
      " expand_dim (Reshape)        (None, None, 193, 1)      0         \n",
      "                                                                 \n",
      " conv_1 (Conv2D)             (None, None, 97, 32)      14432     \n",
      "                                                                 \n",
      " conv_1_bn (BatchNormalizati  (None, None, 97, 32)     128       \n",
      " on)                                                             \n",
      "                                                                 \n",
      " conv_1_relu (ReLU)          (None, None, 97, 32)      0         \n",
      "                                                                 \n",
      " conv_2 (Conv2D)             (None, None, 49, 32)      236544    \n",
      "                                                                 \n",
      " conv_2_bn (BatchNormalizati  (None, None, 49, 32)     128       \n",
      " on)                                                             \n",
      "                                                                 \n",
      " conv_2_relu (ReLU)          (None, None, 49, 32)      0         \n",
      "                                                                 \n",
      " reshape (Reshape)           (None, None, 1568)        0         \n",
      "                                                                 \n",
      " bidirectional_1 (Bidirectio  (None, None, 256)        1304064   \n",
      " nal)                                                            \n",
      "                                                                 \n",
      " dropout (Dropout)           (None, None, 256)         0         \n",
      "                                                                 \n",
      " bidirectional_2 (Bidirectio  (None, None, 256)        296448    \n",
      " nal)                                                            \n",
      "                                                                 \n",
      " dense_1 (Dense)             (None, None, 256)         65792     \n",
      "                                                                 \n",
      " dense_1_relu (ReLU)         (None, None, 256)         0         \n",
      "                                                                 \n",
      " dropout_1 (Dropout)         (None, None, 256)         0         \n",
      "                                                                 \n",
      " dense (Dense)               (None, None, 32)          8224      \n",
      "                                                                 \n",
      "=================================================================\n",
      "Total params: 1,925,760\n",
      "Trainable params: 1,925,632\n",
      "Non-trainable params: 128\n",
      "_________________________________________________________________\n"
     ]
    }
   ],
   "source": [
    "#Load model\n",
    "model = tf.keras.models.load_model(model_folder_path, compile=False)\n",
    "\n",
    "# Check its architecture\n",
    "model.summary()"
   ]
  },
  {
   "cell_type": "code",
   "execution_count": 14,
   "id": "b9ef7bc5",
   "metadata": {},
   "outputs": [
    {
     "name": "stdout",
     "output_type": "stream",
     "text": [
      "Collecting pydot==1.2.3\n",
      "  Downloading pydot-1.2.3.tar.gz (20 kB)\n",
      "Requirement already satisfied: pyparsing>=2.1.4 in /Library/Frameworks/Python.framework/Versions/3.7/lib/python3.7/site-packages (from pydot==1.2.3) (2.4.7)\n",
      "Building wheels for collected packages: pydot\n",
      "  Building wheel for pydot (setup.py) ... \u001b[?25ldone\n",
      "\u001b[?25h  Created wheel for pydot: filename=pydot-1.2.3-py3-none-any.whl size=18926 sha256=75ed27b8d5dd5c087a23593d1934863b7709f7190e837080129d0bb799dae3b9\n",
      "  Stored in directory: /Users/Wassim/Library/Caches/pip/wheels/94/a8/4b/d76c975fd000ecff606a1b170d541bbef0f6429fe1084dcb49\n",
      "Successfully built pydot\n",
      "Installing collected packages: pydot\n",
      "  Attempting uninstall: pydot\n",
      "    Found existing installation: pydot 1.4.2\n",
      "    Uninstalling pydot-1.4.2:\n",
      "      Successfully uninstalled pydot-1.4.2\n",
      "Successfully installed pydot-1.2.3\n",
      "\u001b[33mWARNING: You are using pip version 20.2.2; however, version 22.0.4 is available.\n",
      "You should consider upgrading via the '/Library/Frameworks/Python.framework/Versions/3.7/bin/python3.7 -m pip install --upgrade pip' command.\u001b[0m\n",
      "Requirement already satisfied: graphviz in /Library/Frameworks/Python.framework/Versions/3.7/lib/python3.7/site-packages (0.19.1)\n",
      "\u001b[33mWARNING: You are using pip version 20.2.2; however, version 22.0.4 is available.\n",
      "You should consider upgrading via the '/Library/Frameworks/Python.framework/Versions/3.7/bin/python3.7 -m pip install --upgrade pip' command.\u001b[0m\n"
     ]
    }
   ],
   "source": [
    "!pip install pydot==1.2.3\n",
    "!pip install graphviz"
   ]
  },
  {
   "cell_type": "code",
   "execution_count": 17,
   "id": "6b8beef8",
   "metadata": {},
   "outputs": [],
   "source": [
    "\n",
    "tf.keras.utils.plot_model(model, show_dtype=True, \n",
    "                       show_layer_names=True, show_shapes=True,  \n",
    "                       to_file=os.path.join(model_folder_path,'model_architecture.pdf'))"
   ]
  },
  {
   "cell_type": "code",
   "execution_count": 15,
   "id": "fccc1d93",
   "metadata": {},
   "outputs": [
    {
     "name": "stderr",
     "output_type": "stream",
     "text": [
      "WARNING:py.warnings:/Users/Wassim/Documents/Year 4/MLP/CW3:4/MLP_Group_Project/src/datasets.py:289: SettingWithCopyWarning: \n",
      "A value is trying to be set on a copy of a slice from a DataFrame\n",
      "\n",
      "See the caveats in the documentation: https://pandas.pydata.org/pandas-docs/stable/user_guide/indexing.html#returning-a-view-versus-a-copy\n",
      "  label_rows[LabelsCSVHeaders.MSWC_ID][i] =  corrected_keyword_ID\n",
      "\n"
     ]
    },
    {
     "name": "stdout",
     "output_type": "stream",
     "text": [
      "2700\n",
      "MoviePy - Writing audio in keyword_temp.wav\n"
     ]
    },
    {
     "name": "stderr",
     "output_type": "stream",
     "text": [
      "                                                                                                                                                              "
     ]
    },
    {
     "name": "stdout",
     "output_type": "stream",
     "text": [
      "MoviePy - Done.\n"
     ]
    },
    {
     "name": "stderr",
     "output_type": "stream",
     "text": [
      "\r"
     ]
    },
    {
     "ename": "IndexError",
     "evalue": "list index out of range",
     "output_type": "error",
     "traceback": [
      "\u001b[0;31m---------------------------------------------------------------------------\u001b[0m",
      "\u001b[0;31mIndexError\u001b[0m                                Traceback (most recent call last)",
      "\u001b[0;32m/var/folders/__/01r6qm2n3pn7__t89tlgnvg40000gp/T/ipykernel_75159/4058135941.py\u001b[0m in \u001b[0;36m<module>\u001b[0;34m\u001b[0m\n\u001b[1;32m     35\u001b[0m \u001b[0;34m\u001b[0m\u001b[0m\n\u001b[1;32m     36\u001b[0m     \u001b[0;31m# Step 1: transcribe the keyword\u001b[0m\u001b[0;34m\u001b[0m\u001b[0;34m\u001b[0m\u001b[0;34m\u001b[0m\u001b[0m\n\u001b[0;32m---> 37\u001b[0;31m     \u001b[0mkeyword_transcript\u001b[0m \u001b[0;34m=\u001b[0m  \u001b[0mmodel\u001b[0m\u001b[0;34m.\u001b[0m\u001b[0mpredict\u001b[0m\u001b[0;34m(\u001b[0m\u001b[0mkeyword_filename\u001b[0m\u001b[0;34m)\u001b[0m\u001b[0;34m\u001b[0m\u001b[0;34m\u001b[0m\u001b[0m\n\u001b[0m\u001b[1;32m     38\u001b[0m \u001b[0;34m\u001b[0m\u001b[0m\n\u001b[1;32m     39\u001b[0m \u001b[0;34m\u001b[0m\u001b[0m\n",
      "\u001b[0;32m/Library/Frameworks/Python.framework/Versions/3.7/lib/python3.7/site-packages/keras/utils/traceback_utils.py\u001b[0m in \u001b[0;36merror_handler\u001b[0;34m(*args, **kwargs)\u001b[0m\n\u001b[1;32m     65\u001b[0m     \u001b[0;32mexcept\u001b[0m \u001b[0mException\u001b[0m \u001b[0;32mas\u001b[0m \u001b[0me\u001b[0m\u001b[0;34m:\u001b[0m  \u001b[0;31m# pylint: disable=broad-except\u001b[0m\u001b[0;34m\u001b[0m\u001b[0;34m\u001b[0m\u001b[0m\n\u001b[1;32m     66\u001b[0m       \u001b[0mfiltered_tb\u001b[0m \u001b[0;34m=\u001b[0m \u001b[0m_process_traceback_frames\u001b[0m\u001b[0;34m(\u001b[0m\u001b[0me\u001b[0m\u001b[0;34m.\u001b[0m\u001b[0m__traceback__\u001b[0m\u001b[0;34m)\u001b[0m\u001b[0;34m\u001b[0m\u001b[0;34m\u001b[0m\u001b[0m\n\u001b[0;32m---> 67\u001b[0;31m       \u001b[0;32mraise\u001b[0m \u001b[0me\u001b[0m\u001b[0;34m.\u001b[0m\u001b[0mwith_traceback\u001b[0m\u001b[0;34m(\u001b[0m\u001b[0mfiltered_tb\u001b[0m\u001b[0;34m)\u001b[0m \u001b[0;32mfrom\u001b[0m \u001b[0;32mNone\u001b[0m\u001b[0;34m\u001b[0m\u001b[0;34m\u001b[0m\u001b[0m\n\u001b[0m\u001b[1;32m     68\u001b[0m     \u001b[0;32mfinally\u001b[0m\u001b[0;34m:\u001b[0m\u001b[0;34m\u001b[0m\u001b[0;34m\u001b[0m\u001b[0m\n\u001b[1;32m     69\u001b[0m       \u001b[0;32mdel\u001b[0m \u001b[0mfiltered_tb\u001b[0m\u001b[0;34m\u001b[0m\u001b[0;34m\u001b[0m\u001b[0m\n",
      "\u001b[0;32m/Library/Frameworks/Python.framework/Versions/3.7/lib/python3.7/site-packages/tensorflow/python/framework/tensor_shape.py\u001b[0m in \u001b[0;36m__getitem__\u001b[0;34m(self, key)\u001b[0m\n\u001b[1;32m    900\u001b[0m       \u001b[0;32melse\u001b[0m\u001b[0;34m:\u001b[0m\u001b[0;34m\u001b[0m\u001b[0;34m\u001b[0m\u001b[0m\n\u001b[1;32m    901\u001b[0m         \u001b[0;32mif\u001b[0m \u001b[0mself\u001b[0m\u001b[0;34m.\u001b[0m\u001b[0m_v2_behavior\u001b[0m\u001b[0;34m:\u001b[0m\u001b[0;34m\u001b[0m\u001b[0;34m\u001b[0m\u001b[0m\n\u001b[0;32m--> 902\u001b[0;31m           \u001b[0;32mreturn\u001b[0m \u001b[0mself\u001b[0m\u001b[0;34m.\u001b[0m\u001b[0m_dims\u001b[0m\u001b[0;34m[\u001b[0m\u001b[0mkey\u001b[0m\u001b[0;34m]\u001b[0m\u001b[0;34m.\u001b[0m\u001b[0mvalue\u001b[0m\u001b[0;34m\u001b[0m\u001b[0;34m\u001b[0m\u001b[0m\n\u001b[0m\u001b[1;32m    903\u001b[0m         \u001b[0;32melse\u001b[0m\u001b[0;34m:\u001b[0m\u001b[0;34m\u001b[0m\u001b[0;34m\u001b[0m\u001b[0m\n\u001b[1;32m    904\u001b[0m           \u001b[0;32mreturn\u001b[0m \u001b[0mself\u001b[0m\u001b[0;34m.\u001b[0m\u001b[0m_dims\u001b[0m\u001b[0;34m[\u001b[0m\u001b[0mkey\u001b[0m\u001b[0;34m]\u001b[0m\u001b[0;34m\u001b[0m\u001b[0;34m\u001b[0m\u001b[0m\n",
      "\u001b[0;31mIndexError\u001b[0m: list index out of range"
     ]
    }
   ],
   "source": [
    "# Iterate through the Tedlium dataset and retrieve the necessary information\n",
    "wrapper = CTRLF_DatasetWrapper()\n",
    "accuracy = []\n",
    "\n",
    "\n",
    "valid_samples = NUM_OF_SAMPLES - int(NUM_OF_SAMPLES*0.1)\n",
    "print(valid_samples)\n",
    "for i in range(valid_samples,3000):\n",
    "\n",
    "    sample = wrapper.get(i)\n",
    "\n",
    "    # Retrieve information from dataframe\n",
    "    # We require the ted audio waveform, keyword waveform, audio start and end time, and keyword start and \n",
    "    # end time\n",
    "    ted_waveform = sample[\"TED_waveform\"][0]\n",
    "    ted_waveform = ted_waveform.reshape(ted_waveform.shape[1],1)\n",
    "    keyword = sample[\"MSWC_audio_waveform\"][0]\n",
    "    keyword = keyword.reshape(keyword.shape[0],1)\n",
    "    ted_start_time = sample[\"TED_start_time\"][0]\n",
    "    ted_end_time = sample[\"TED_end_time\"][0]\n",
    "    ted_length = ted_end_time-ted_start_time\n",
    "    ted_sample_rate = sample[\"TED_sample_rate\"][0]\n",
    "    keyword_sample_rate = sample[\"MSWC_sample_rate\"][0]\n",
    "    keyword_start_time = sample[\"keyword_start_time\"][0]\n",
    "    keyword_end_time = sample[\"keyword_end_time\"][0]\n",
    "    ted_transcript = sample[\"TED_transcript\"][0]\n",
    "\n",
    "    keyword_id = sample[\"MSWC_ID\"][0]\n",
    "\n",
    "    # Convert keyword to wav\n",
    "    # Define a file to temporarly store the original audio in\n",
    "    keyword_filename = \"keyword_temp.wav\"\n",
    "    wav_file = AudioArrayClip(keyword, fps = 44100)\n",
    "    wav_file.write_audiofile(keyword_filename)\n",
    "\n",
    "    # Step 1: transcribe the keyword\n",
    "    keyword_transcript =  model.predict(keyword_filename)\n",
    "    \n",
    "\n",
    "    #keyword_transcript = keyword_transcript.strip()\n",
    "\n",
    "    \"\"\"\n",
    "    # Step 2: Window the data s.t. we have windows of the same length as the keyword\n",
    "    frames, window_frames = window_split(actual_keyword_len, actual_keyword_len//100, ted_waveform)\n",
    "    window_frames = window_frames[0].T\n",
    "\n",
    "    ted_transcripts = []\n",
    "\n",
    "    # Step 3: Transcribe every window\n",
    "    frame_counter = 0\n",
    "    for frame in window_frames:\n",
    "        ted_filename =  \"ted_temp.wav\"\n",
    "        frame = frame.reshape(frame.shape[0],1)\n",
    "        wav_file = AudioArrayClip(frame, fps=44100)\n",
    "        wav_file.write_audiofile(ted_filename)\n",
    "        transcript = dsp.main(\"deepspeech-0.9.3-models.pbmm\", ted_filename, scorer=\"deepspeech-0.9.3-models.scorer\")\n",
    "\n",
    "        ted_transcripts.append(transcript + [frame_counter])\n",
    "        frame_counter += 1\n",
    "\n",
    "    for (transcript, start, end, frame_index) in ted_transcripts:\n",
    "        if transcript == keyword_transcript[0]:\n",
    "            print(transcript, ted_start_time + frame_index*)\n",
    "    \"\"\"\n",
    "    ted_filename =  \"ted_temp.wav\"\n",
    "    wav_file = AudioArrayClip(ted_waveform, fps=44100)\n",
    "    wav_file.write_audiofile(ted_filename)\n",
    "    ted_transcripts = model.predict(os.path.join(DATASET_TEDLIUM_PATH, \"TEDLIUM_wav\", sample[\"TED_talk_id\"][0]+\".sph.wav\"))\n",
    "    keyword_len = len(keyword_transcript)\n",
    "    i = 0\n",
    "\n",
    "    print(f\"Trying to identify the keyword:++{keyword_transcript}++ within transcript:++{ted_transcripts}++.\")\n",
    "    \n",
    "    \n",
    "\n",
    "    # Match the transcripts\n",
    "    while True:\n",
    "        try:\n",
    "            transcript_snippet = str(ted_transcripts[i:i+keyword_len])\n",
    "            if transcript_snippet == keyword_transcript:\n",
    "                ted_start = convert_timestamp(44100, ted_sample_rate, ted_start_time)\n",
    "                start = ted_timestamps[i]\n",
    "                ted_end = convert_timestamp(44100, ted_sample_rate, ted_end_time)\n",
    "                end = ted_timestamps[i+keyword_len]\n",
    "\n",
    "                keyword_start = convert_timestamp(44100, keyword_sample_rate, keyword_start_time)\n",
    "                keyword_end = convert_timestamp(44100, keyword_sample_rate, keyword_end_time)\n",
    "                print(start,end)\n",
    "                print(keyword_start, keyword_end)\n",
    "\n",
    "                start_frame_1 = int(start*16000)\n",
    "                start_frame_2 = int(keyword_start*16000)\n",
    "                end_frame_1 = int(end*16000)\n",
    "                end_frame_2 = int(keyword_end*16000)\n",
    "                print(start_frame_1, start_frame_2, end_frame_1, end_frame_2)\n",
    "\n",
    "                file_1 = AudioArrayClip(ted_waveform[start_frame_1:end_frame_1], fps=44100)\n",
    "                file_1.write_audiofile(\"file_1.wav\")\n",
    "\n",
    "                file_2 = AudioArrayClip(ted_waveform[start_frame_2:end_frame_2], fps=44100)\n",
    "                file_2.write_audiofile(\"file_2.wav\")\n",
    "                accuracy.append(correct_timestamp(start, end, keyword_start_time, keyword_end_time))\n",
    "                break\n",
    "            i += 1\n",
    "            if i > len(ted_transcript):\n",
    "                accuracy.append(False)\n",
    "                break\n",
    "        except:\n",
    "            break\n",
    "\n",
    "    break\n",
    "print(\"Model accuracy: \", sum(accuracy)/len(accuracy))\n",
    "print(\"Model Done.\")\n",
    "\n",
    "\n",
    "\n",
    "main()\n",
    "# y hamster has 8gb ram\n",
    "\n"
   ]
  },
  {
   "cell_type": "markdown",
   "id": "94f635de",
   "metadata": {},
   "source": [
    "# Evaluation and Diagrams"
   ]
  },
  {
   "cell_type": "code",
   "execution_count": 33,
   "id": "faf9399c",
   "metadata": {},
   "outputs": [],
   "source": [
    "train_loss_plot_path = os.path.join(model_folder_path, \"model_history.csv\")\n",
    "bad_model_path = os.path.join(model_folder_path, \"saved_model_v1.pb\")"
   ]
  },
  {
   "cell_type": "code",
   "execution_count": 46,
   "id": "7fa16dc4",
   "metadata": {},
   "outputs": [
    {
     "data": {
      "image/png": "[encoded data removed]",
      "text/plain": [
       "<Figure size 576x288 with 1 Axes>"
      ]
     },
     "metadata": {},
     "output_type": "display_data"
    }
   ],
   "source": [
    "#Train loss plot\n",
    "fig = plt.figure(figsize=(8, 4))\n",
    "loss_df = pd.read_csv(train_loss_plot_path)\n",
    "plt.plot(loss_df.train, linewidth=2, label=\"train\")\n",
    "plt.plot(loss_df.valid, linewidth=2, label=\"valid\")\n",
    "plt.title(\"ASR Keras Model - Train and Valid Loss\")\n",
    "plt.xlabel(\"Epoch Number\",  fontsize=12)\n",
    "plt.ylabel(\"Error\",  fontsize=12)\n",
    "plt.legend(loc=\"best\", fontsize=11)\n",
    "fig.tight_layout() # This minimises whitespace around the axes.\n",
    "plt.savefig(os.path.join(model_folder_path,\"loss_plot.pdf\"))"
   ]
  },
  {
   "cell_type": "code",
   "execution_count": 8,
   "id": "ca7d10bd",
   "metadata": {},
   "outputs": [],
   "source": [
    "#Generate spectogram\n",
    "def get_spectogram(audio, frame_length, frame_step, fft_length):\n",
    "    spectrogram = tf.signal.stft(\n",
    "        audio, frame_length=frame_length, frame_step=frame_step, fft_length=fft_length\n",
    "    )\n",
    "    # 5. We only need the magnitude, which can be derived by applying tf.abs\n",
    "    spectrogram = tf.abs(spectrogram)\n",
    "    spectrogram = tf.math.pow(spectrogram, 0.5)\n",
    "    # 6. normalisation\n",
    "    means = tf.math.reduce_mean(spectrogram, 1, keepdims=True)\n",
    "    stddevs = tf.math.reduce_std(spectrogram, 1, keepdims=True)\n",
    "    spectrogram = (spectrogram - means) / (stddevs + 1e-10)\n",
    "    return spectrogram\n",
    "    \n",
    "    "
   ]
  },
  {
   "cell_type": "code",
   "execution_count": null,
   "id": "be494358",
   "metadata": {},
   "outputs": [],
   "source": [
    "for batch in train:\n",
    "    spectrogram = batch[0][0].numpy()\n",
    "    spectrogram = np.array([np.trim_zeros(x) for x in np.transpose(spectrogram)])\n",
    "    label = batch[1][0]\n",
    "    # Spectrogram\n",
    "    label = tf.strings.reduce_join(num_to_char(label)).numpy().decode(\"utf-8\")\n",
    "    ax = plt.subplot(2, 1, 1)\n",
    "    ax.imshow(spectrogram, vmax=1)\n",
    "    ax.set_title(label)\n",
    "    ax.axis(\"off\")\n",
    "    # Wav\n",
    "    file = tf.io.read_file(wav_path + list(df_train[\"TED_Talk_ID\"])[0] + \".wav\")\n",
    "    audio, _ = tf.audio.decode_wav(file)\n",
    "    audio = audio.numpy()\n",
    "    ax = plt.subplot(2, 1, 2)\n",
    "    plt.plot(audio)\n",
    "    ax.set_title(\"Signal Wave\")\n",
    "    ax.set_xlim(0, len(audio))\n",
    "    display.display(display.Audio(np.transpose(audio), rate=16000))\n",
    "plt.show()"
   ]
  },
  {
   "cell_type": "code",
   "execution_count": 16,
   "id": "339e5e9c",
   "metadata": {},
   "outputs": [
    {
     "data": {
      "text/plain": [
       "'BECAUSE|OF'"
      ]
     },
     "execution_count": 16,
     "metadata": {},
     "output_type": "execute_result"
    }
   ],
   "source": [
    "\"BECAUSE|OF\""
   ]
  },
  {
   "cell_type": "code",
   "execution_count": null,
   "id": "ac283d3d",
   "metadata": {},
   "outputs": [],
   "source": []
  }
 ],
 "metadata": {
  "kernelspec": {
   "display_name": "Python 3 (ipykernel)",
   "language": "python",
   "name": "python3"
  },
  "language_info": {
   "codemirror_mode": {
    "name": "ipython",
    "version": 3
   },
   "file_extension": ".py",
   "mimetype": "text/x-python",
   "name": "python",
   "nbconvert_exporter": "python",
   "pygments_lexer": "ipython3",
   "version": "3.7.3"
  }
 },
 "nbformat": 4,
 "nbformat_minor": 5
}
